{
 "cells": [
  {
   "cell_type": "markdown",
   "metadata": {
    "ExecuteTime": {
     "end_time": "2020-11-03T00:17:14.532616Z",
     "start_time": "2020-11-03T00:17:14.528472Z"
    }
   },
   "source": [
    "<font size=4 color='blue'>\n",
    "    \n",
    "# <center> Clase 6, octubre 27 del 2021</center>"
   ]
  },
  {
   "cell_type": "markdown",
   "metadata": {},
   "source": [
    "<font size=4 color='blue'>\n",
    "    \n",
    "# <center> Machines that use Unsupervised Learning </center>"
   ]
  },
  {
   "cell_type": "markdown",
   "metadata": {
    "ExecuteTime": {
     "end_time": "2020-11-03T00:13:26.710794Z",
     "start_time": "2020-11-03T00:13:26.707065Z"
    }
   },
   "source": [
    "<font size=5 color='blue'>\n",
    "Extracting information from a dataset using clustering"
   ]
  },
  {
   "cell_type": "markdown",
   "metadata": {},
   "source": [
    "<font size=4 color='black'>\n",
    "\n",
    "[Article about Kmeans](./Literature/Kmeans_article.pdf)"
   ]
  },
  {
   "cell_type": "markdown",
   "metadata": {
    "ExecuteTime": {
     "end_time": "2020-11-02T20:23:49.611888Z",
     "start_time": "2020-11-02T20:23:49.604310Z"
    }
   },
   "source": [
    "<font size=5 color='blue'>\n",
    "\n",
    "Kmeans Algorithm\n"
   ]
  },
  {
   "cell_type": "markdown",
   "metadata": {
    "ExecuteTime": {
     "end_time": "2020-11-02T20:24:50.896550Z",
     "start_time": "2020-11-02T20:24:50.880717Z"
    }
   },
   "source": [
    "<font size=4 color='black'>\n",
    "\n",
    "Kmeans algorithm is an iterative algorithm that tries to partition the dataset into K-pre-defined distinct non-overlapping subgroups (clusters) where each data point belongs to only one group. \n",
    "    \n",
    "It tries to make the intra-cluster data points as similar as possible while also keeping the clusters as different (far) as possible. \n",
    "    \n",
    "It assigns data points to a cluster such that the sum of the squared distance between the data points and the cluster’s centroid (arithmetic mean of all the data points that belong to that cluster) is at the minimum. \n",
    "    \n",
    "The less variation we have within clusters, the more homogeneous (similar) the data points are within the same cluster."
   ]
  },
  {
   "cell_type": "markdown",
   "metadata": {},
   "source": [
    "<font size=4 color='black'>\n",
    "\n",
    "The way kmeans algorithm works is as follows:\n",
    "\n",
    "    Specify number of clusters K.\n",
    "    \n",
    "    Initialize centroids by first shuffling the dataset and then randomly selecting K \n",
    "    data points for the centroids without replacement.\n",
    "    \n",
    "    Keep iterating until there is no change to the centroids. i.e assignment of data points to clusters isn’t changing.\n",
    "\n",
    "    Compute the sum of the squared distance between data points and all centroids.\n",
    "    Assign each data point to the closest cluster (centroid).\n",
    "    \n",
    "    Compute the centroids for the clusters by taking the average of the all data points that belong to each cluster."
   ]
  },
  {
   "cell_type": "markdown",
   "metadata": {},
   "source": [
    "<font size=4 color='black'>\n",
    "\n",
    "The used metric to detect the clusters is:\n",
    "\n",
    "    \n",
    "$$ J = \\sum_{i=1}^m \\sum_{k=1}^K {w_i}_k ||x^{i} - \\mu_k||^2$$\n",
    "    \n",
    "where ${w_i}_k$ = 1 for data point $x_i$ if it belongs to cluster k; otherwise, ${w_i}_k$=0. Also, $\\mu_k$ is the centroid of $x_i$’s cluster.\n"
   ]
  },
  {
   "cell_type": "markdown",
   "metadata": {
    "ExecuteTime": {
     "end_time": "2020-11-02T22:07:25.390749Z",
     "start_time": "2020-11-02T22:07:25.382566Z"
    }
   },
   "source": [
    "<font size=5 color='blue'>\n",
    "\n",
    "Examples of problems with iformation that can be separated into clusters"
   ]
  },
  {
   "cell_type": "markdown",
   "metadata": {},
   "source": [
    "<font size=4 color='blue'>\n",
    "    \n",
    "[Machine learning for data-driven discovery in solid Earth geoscience](https://science.sciencemag.org/content/363/6433/eaau0323)"
   ]
  },
  {
   "cell_type": "markdown",
   "metadata": {},
   "source": [
    "<img src=\"./images/Picture1.png\" width=420 height=420 align = \"center\" >"
   ]
  },
  {
   "cell_type": "markdown",
   "metadata": {},
   "source": [
    "<font size=4 color='blue'>\n",
    "\n",
    "# <center> Geyser’s Eruptions </center>"
   ]
  },
  {
   "cell_type": "markdown",
   "metadata": {},
   "source": [
    "<font size=4 color='black'>\n",
    "The features, variables $\\textbf X$, that characterize Geyser's Eruptions are the waiting time between eruptions ($X_1$) and the duration of the eruption ($X_2$) for the Old Faithful geyser in Yellowstone National Park, Wyoming, USA"
   ]
  },
  {
   "cell_type": "code",
   "execution_count": null,
   "metadata": {
    "ExecuteTime": {
     "end_time": "2020-11-04T00:07:06.856439Z",
     "start_time": "2020-11-04T00:07:06.847382Z"
    },
    "scrolled": false
   },
   "outputs": [],
   "source": [
    "from IPython.display import HTML\n",
    "\n",
    "HTML(\"\"\"\n",
    "<video width=\"520\" height=\"340\" controls>\n",
    "  <source src=\"yell-InDepth-Geysers2_640x360.mp4\" type=\"video/mp4\">\n",
    "</video>\n",
    "\"\"\")\n"
   ]
  },
  {
   "cell_type": "code",
   "execution_count": null,
   "metadata": {},
   "outputs": [],
   "source": [
    "! pip install sklearn"
   ]
  },
  {
   "cell_type": "code",
   "execution_count": null,
   "metadata": {
    "ExecuteTime": {
     "end_time": "2020-11-04T00:07:07.553424Z",
     "start_time": "2020-11-04T00:07:06.857844Z"
    }
   },
   "outputs": [],
   "source": [
    "import matplotlib\n",
    "import matplotlib.pyplot as plt\n",
    "from matplotlib.image import imread\n",
    "import pandas as pd\n",
    "import seaborn as sns\n",
    "import sklearn "
   ]
  },
  {
   "cell_type": "code",
   "execution_count": null,
   "metadata": {},
   "outputs": [],
   "source": [
    "matplotlib.__version__"
   ]
  },
  {
   "cell_type": "code",
   "execution_count": null,
   "metadata": {},
   "outputs": [],
   "source": [
    "sklearn.__version__"
   ]
  },
  {
   "cell_type": "code",
   "execution_count": null,
   "metadata": {},
   "outputs": [],
   "source": [
    "#from sklearn.datasets.samples_generator import (make_blobs,\n",
    "#                                                make_circles,\n",
    "#                                                make_moons)\n",
    "from sklearn.datasets import make_blobs\n",
    "from sklearn.cluster import KMeans, SpectralClustering\n",
    "from sklearn.preprocessing import StandardScaler\n",
    "from sklearn.metrics import silhouette_samples, silhouette_score\n",
    "\n",
    "%matplotlib inline"
   ]
  },
  {
   "cell_type": "markdown",
   "metadata": {},
   "source": [
    "<font size=4 color='blue'>\n",
    "\n",
    "[sklearn_paper](./Literature/Scikit-learn_2011.pdf)"
   ]
  },
  {
   "cell_type": "markdown",
   "metadata": {},
   "source": [
    "<font size=4 color='black'>\n",
    "\n",
    "The Python code of sklearn for KMeans is the file _kmeans.py"
   ]
  },
  {
   "cell_type": "markdown",
   "metadata": {},
   "source": [
    "<font size=5 color='blue'>\n",
    "\n",
    "Reading Geyser’s Eruptions data set"
   ]
  },
  {
   "cell_type": "markdown",
   "metadata": {},
   "source": [
    "<font size=4 color='blue'>\n",
    "    \n",
    "[Geyser’s Eruptions data set](https://www.kaggle.com/janithwanni/old-faithful)"
   ]
  },
  {
   "cell_type": "code",
   "execution_count": null,
   "metadata": {
    "ExecuteTime": {
     "end_time": "2020-11-04T00:07:07.560215Z",
     "start_time": "2020-11-04T00:07:07.555275Z"
    }
   },
   "outputs": [],
   "source": [
    "# Import the data\n",
    "df = pd.read_csv('old_faithful.csv')"
   ]
  },
  {
   "cell_type": "code",
   "execution_count": null,
   "metadata": {
    "ExecuteTime": {
     "end_time": "2020-11-04T00:07:07.712980Z",
     "start_time": "2020-11-04T00:07:07.561710Z"
    }
   },
   "outputs": [],
   "source": [
    "# Plot the data\n",
    "plt.figure(figsize=(6, 6))\n",
    "plt.scatter(df.iloc[:, 0], df.iloc[:, 1])\n",
    "plt.xlabel('Eruption time in minuts')\n",
    "plt.ylabel('Waiting time to next eruption')\n",
    "plt.title('Visualization of raw data');"
   ]
  },
  {
   "cell_type": "code",
   "execution_count": null,
   "metadata": {
    "ExecuteTime": {
     "end_time": "2020-11-04T00:07:07.717975Z",
     "start_time": "2020-11-04T00:07:07.714465Z"
    }
   },
   "outputs": [],
   "source": [
    "print(type(df))\n",
    "print(df.shape)"
   ]
  },
  {
   "cell_type": "code",
   "execution_count": null,
   "metadata": {
    "ExecuteTime": {
     "end_time": "2020-11-04T00:07:07.734124Z",
     "start_time": "2020-11-04T00:07:07.719776Z"
    }
   },
   "outputs": [],
   "source": [
    "df.head()"
   ]
  },
  {
   "cell_type": "markdown",
   "metadata": {
    "ExecuteTime": {
     "end_time": "2020-11-02T23:26:32.649312Z",
     "start_time": "2020-11-02T23:26:32.646388Z"
    }
   },
   "source": [
    "<font size=5 color='blue'>\n",
    "Normalizing information data"
   ]
  },
  {
   "cell_type": "code",
   "execution_count": null,
   "metadata": {
    "ExecuteTime": {
     "end_time": "2020-11-04T00:07:07.746307Z",
     "start_time": "2020-11-04T00:07:07.736125Z"
    }
   },
   "outputs": [],
   "source": [
    "# Standardize the data\n",
    "X_std = StandardScaler().fit_transform(df)"
   ]
  },
  {
   "cell_type": "code",
   "execution_count": null,
   "metadata": {
    "ExecuteTime": {
     "end_time": "2020-11-04T00:07:07.759058Z",
     "start_time": "2020-11-04T00:07:07.747964Z"
    }
   },
   "outputs": [],
   "source": [
    "print(type(X_std))\n",
    "print(X_std.shape)"
   ]
  },
  {
   "cell_type": "code",
   "execution_count": null,
   "metadata": {
    "ExecuteTime": {
     "end_time": "2020-11-04T00:07:07.774524Z",
     "start_time": "2020-11-04T00:07:07.760574Z"
    }
   },
   "outputs": [],
   "source": [
    "print(X_std[0:5][:])"
   ]
  },
  {
   "cell_type": "code",
   "execution_count": null,
   "metadata": {
    "ExecuteTime": {
     "end_time": "2020-11-04T00:07:07.942060Z",
     "start_time": "2020-11-04T00:07:07.778678Z"
    }
   },
   "outputs": [],
   "source": [
    "# Plot the data\n",
    "plt.figure(figsize=(6, 6))\n",
    "plt.scatter(X_std[:, 0], X_std[:, 1])\n",
    "plt.xlabel('Eruption time')\n",
    "plt.ylabel('Waiting time to next eruption')\n",
    "plt.title('Visualization of normilized data');"
   ]
  },
  {
   "cell_type": "markdown",
   "metadata": {},
   "source": [
    "<font size=5 color='blue'>\n",
    "Generating the architecture of the learning model"
   ]
  },
  {
   "cell_type": "code",
   "execution_count": null,
   "metadata": {
    "ExecuteTime": {
     "end_time": "2020-11-04T00:07:07.946737Z",
     "start_time": "2020-11-04T00:07:07.943699Z"
    }
   },
   "outputs": [],
   "source": [
    "# Run local implementation of kmeans\n",
    "model = KMeans(n_clusters=2, max_iter=100, init='random',n_init=10)"
   ]
  },
  {
   "cell_type": "markdown",
   "metadata": {},
   "source": [
    "<font size=5 color='blue'>\n",
    "Building a Machine that learns to find clusters using this model"
   ]
  },
  {
   "cell_type": "code",
   "execution_count": null,
   "metadata": {
    "ExecuteTime": {
     "end_time": "2020-11-04T00:07:07.973631Z",
     "start_time": "2020-11-04T00:07:07.948090Z"
    }
   },
   "outputs": [],
   "source": [
    "#km.fit(X_std)\n",
    "model.fit(X_std)"
   ]
  },
  {
   "cell_type": "markdown",
   "metadata": {},
   "source": [
    "<font size=5 color='blue'>\n",
    "Extracting information of the recognized clusters"
   ]
  },
  {
   "cell_type": "code",
   "execution_count": null,
   "metadata": {
    "ExecuteTime": {
     "end_time": "2020-11-04T00:07:07.977628Z",
     "start_time": "2020-11-04T00:07:07.975148Z"
    }
   },
   "outputs": [],
   "source": [
    "#Obtaining clusters centroid\n",
    "centroids = model.cluster_centers_\n",
    "\n",
    "#To obtain the labels of each cluster\n",
    "labels = model.labels_"
   ]
  },
  {
   "cell_type": "markdown",
   "metadata": {},
   "source": [
    "<font size=5 color='blue'>\n",
    "Plotting the clusters"
   ]
  },
  {
   "cell_type": "code",
   "execution_count": null,
   "metadata": {
    "ExecuteTime": {
     "end_time": "2020-11-04T00:07:08.175754Z",
     "start_time": "2020-11-04T00:07:07.979248Z"
    }
   },
   "outputs": [],
   "source": [
    "# Plot the clustered data\n",
    "fig, ax = plt.subplots(figsize=(6, 6))\n",
    "plt.scatter(X_std[labels == 0, 0], X_std[labels == 0, 1],\n",
    "            c='green', label='cluster 1')\n",
    "plt.scatter(X_std[labels == 1, 0], X_std[labels == 1, 1],\n",
    "            c='blue', label='cluster 2')\n",
    "plt.scatter(centroids[:, 0], centroids[:, 1], marker='*', s=300,\n",
    "            c='r', label='centroid')\n",
    "plt.legend()\n",
    "plt.xlim([-2, 2])\n",
    "plt.ylim([-2, 2])\n",
    "plt.xlabel('Eruption time')\n",
    "plt.ylabel('Waiting time to next eruption')\n",
    "plt.title('Visualization of clustered data', fontweight='bold')\n",
    "ax.set_aspect('equal');"
   ]
  },
  {
   "cell_type": "markdown",
   "metadata": {},
   "source": [
    "<img src=\"./images/Picture1.png\" width=420 height=420 align = \"center\" >"
   ]
  },
  {
   "cell_type": "markdown",
   "metadata": {},
   "source": [
    "<font size=4 color='blue'>\n",
    "    \n",
    "# <center> Iris flowers Clustering </center>"
   ]
  },
  {
   "cell_type": "markdown",
   "metadata": {},
   "source": [
    "<img src=\"iris.jpg\">"
   ]
  },
  {
   "cell_type": "markdown",
   "metadata": {
    "ExecuteTime": {
     "end_time": "2020-11-02T23:39:24.135349Z",
     "start_time": "2020-11-02T23:39:24.126270Z"
    }
   },
   "source": [
    "<font size=5 color='blue'>\n",
    "Features (atributes) that define Iris flowers:"
   ]
  },
  {
   "cell_type": "markdown",
   "metadata": {},
   "source": [
    "$X_0$ = sepal length in cm,\n",
    "$X_1$ = sepal width in cm,\n",
    "$X_2$ = petal length in cm,\n",
    "$X_3$ = petal width in cm,\n",
    "$X_4$ = class: Iris Setosa, Iris Versicolour, Iris Virginica"
   ]
  },
  {
   "cell_type": "markdown",
   "metadata": {},
   "source": [
    "<font size=4 color='black'>\n",
    "For visualizing the clusters, we will use only three of the variables associated to the iris flowers: petal width (X[:,3]), sepal length (X[:,0]), and petal length (X[:,2]). "
   ]
  },
  {
   "cell_type": "code",
   "execution_count": null,
   "metadata": {
    "ExecuteTime": {
     "end_time": "2020-11-04T00:07:08.179784Z",
     "start_time": "2020-11-04T00:07:08.177351Z"
    }
   },
   "outputs": [],
   "source": [
    "import numpy as np\n",
    "# for 3D projection to work\n",
    "from mpl_toolkits.mplot3d import Axes3D\n",
    "from sklearn import datasets"
   ]
  },
  {
   "cell_type": "code",
   "execution_count": null,
   "metadata": {},
   "outputs": [],
   "source": [
    "np.__version__"
   ]
  },
  {
   "cell_type": "markdown",
   "metadata": {
    "ExecuteTime": {
     "end_time": "2020-11-02T22:03:56.108119Z",
     "start_time": "2020-11-02T22:03:56.098853Z"
    }
   },
   "source": [
    "<font size=5 color='blue'>\n",
    "\n",
    "Reading Iris data set"
   ]
  },
  {
   "cell_type": "markdown",
   "metadata": {},
   "source": [
    "<font size=4 color='blac'>\n",
    "    \n",
    "[Iris Data set](https://archive.ics.uci.edu/ml/datasets/iris)"
   ]
  },
  {
   "cell_type": "code",
   "execution_count": null,
   "metadata": {
    "ExecuteTime": {
     "end_time": "2020-11-04T00:07:08.192113Z",
     "start_time": "2020-11-04T00:07:08.181101Z"
    }
   },
   "outputs": [],
   "source": [
    "iris = datasets.load_iris()\n",
    "X = iris.data\n",
    "y = iris.target\n",
    "\n",
    "# y is only used to generate the picture of the Ground Truth"
   ]
  },
  {
   "cell_type": "code",
   "execution_count": null,
   "metadata": {
    "ExecuteTime": {
     "end_time": "2020-11-04T00:07:08.203796Z",
     "start_time": "2020-11-04T00:07:08.193816Z"
    }
   },
   "outputs": [],
   "source": [
    "print(X.shape)\n",
    "print(y.shape)"
   ]
  },
  {
   "cell_type": "code",
   "execution_count": null,
   "metadata": {
    "ExecuteTime": {
     "end_time": "2020-11-04T00:07:08.215167Z",
     "start_time": "2020-11-04T00:07:08.205046Z"
    }
   },
   "outputs": [],
   "source": [
    "print(X[0:5])"
   ]
  },
  {
   "cell_type": "markdown",
   "metadata": {},
   "source": [
    "<font size=5 color='blue'>\n",
    "Generating the architecture for 3 different learning models: different number of clusters and different way of centroids initialization"
   ]
  },
  {
   "cell_type": "code",
   "execution_count": null,
   "metadata": {
    "ExecuteTime": {
     "end_time": "2020-11-04T00:07:08.226841Z",
     "start_time": "2020-11-04T00:07:08.217528Z"
    }
   },
   "outputs": [],
   "source": [
    "np.random.seed(5)\n",
    "\n",
    "models = [('k_means_iris_8', KMeans(n_clusters=8, n_init=10)),\n",
    "              ('k_means_iris_3', KMeans(n_clusters=3, n_init=10)),\n",
    "              ('k_means_iris_bad_init', KMeans(n_clusters=3, n_init=1,\n",
    "                                               init='random'))]"
   ]
  },
  {
   "cell_type": "markdown",
   "metadata": {},
   "source": [
    "<font size=5 color='blue'>\n",
    "Machines that learn to find clusters using the tree different models"
   ]
  },
  {
   "cell_type": "code",
   "execution_count": null,
   "metadata": {
    "ExecuteTime": {
     "end_time": "2020-11-04T00:07:08.616555Z",
     "start_time": "2020-11-04T00:07:08.228553Z"
    }
   },
   "outputs": [],
   "source": [
    "fignum = 1\n",
    "titles = ['8 clusters', '3 clusters', '3 clusters, bad initialization']\n",
    "\n",
    "for name, model in models:\n",
    "    fig = plt.figure(fignum, figsize=(6, 4))\n",
    "    ax = Axes3D(fig, rect=[0, 0, .95, 1], elev=48, azim=134, auto_add_to_figure=False)\n",
    "    fig.add_axes(ax)\n",
    "    model.fit(X)\n",
    "    labels = model.labels_\n",
    "\n",
    "    ax.scatter(X[:, 3], X[:, 0], X[:, 2],\n",
    "               c=labels.astype(np.float64), edgecolor='k')\n",
    "\n",
    "    ax.w_xaxis.set_ticklabels([])\n",
    "    ax.w_yaxis.set_ticklabels([])\n",
    "    ax.w_zaxis.set_ticklabels([])\n",
    "    ax.set_xlabel('Petal width')\n",
    "    ax.set_ylabel('Sepal length')\n",
    "    ax.set_zlabel('Petal length')\n",
    "    ax.set_title(titles[fignum - 1])\n",
    "    ax.dist = 12\n",
    "    fignum = fignum + 1"
   ]
  },
  {
   "cell_type": "markdown",
   "metadata": {
    "ExecuteTime": {
     "end_time": "2020-11-02T23:58:11.940341Z",
     "start_time": "2020-11-02T23:58:11.928528Z"
    }
   },
   "source": [
    "<font size=5 color='blue'>\n",
    "Ground Truth \n",
    "<font size=4 color='black'>\n",
    "   \n",
    "It means, checking Machine Learning accuracy with real world"
   ]
  },
  {
   "cell_type": "code",
   "execution_count": null,
   "metadata": {
    "ExecuteTime": {
     "end_time": "2020-11-04T00:07:08.742145Z",
     "start_time": "2020-11-04T00:07:08.617803Z"
    }
   },
   "outputs": [],
   "source": [
    "# Plot the ground truth (Verdad fundamental, verdad de la distribución)\n",
    "\n",
    "fig = plt.figure(fignum, figsize=(8, 6))\n",
    "ax = Axes3D(fig, rect=[0, 0, .95, 1], elev=48, azim=134,auto_add_to_figure=False)\n",
    "fig.add_axes(ax)\n",
    "\n",
    "for name, label in [('Setosa', 0),\n",
    "                    ('Versicolour', 1),\n",
    "                    ('Virginica', 2)]:\n",
    "    ax.text3D(X[y == label, 3].mean(),\n",
    "              X[y == label, 0].mean(),\n",
    "              X[y == label, 2].mean() + 2, name,\n",
    "              horizontalalignment='center',\n",
    "              bbox=dict(alpha=.2, edgecolor='w', facecolor='w'))\n",
    "\n",
    "# Reorder the labels to have colors matching the cluster results\n",
    "y = np.choose(y, [1, 2, 0]).astype(np.float64)\n",
    "ax.scatter(X[:, 3], X[:, 0], X[:, 2], c=y, edgecolor='k')\n",
    "\n",
    "ax.w_xaxis.set_ticklabels([])\n",
    "ax.w_yaxis.set_ticklabels([])\n",
    "ax.w_zaxis.set_ticklabels([])\n",
    "ax.set_xlabel('Petal width', size=16)\n",
    "ax.set_ylabel('Sepal length', size=16)\n",
    "ax.set_zlabel('Petal length', size=16)\n",
    "ax.set_title('Ground Truth', size=20)\n",
    "ax.dist = 11\n"
   ]
  },
  {
   "cell_type": "markdown",
   "metadata": {},
   "source": [
    "<img src=\"./images/Picture1.png\" width=420 height=420 align = \"center\" >"
   ]
  },
  {
   "cell_type": "markdown",
   "metadata": {},
   "source": [
    "<font size=4 color='blue'>\n",
    "\n",
    "# <center> Digits clustering </center>"
   ]
  },
  {
   "cell_type": "markdown",
   "metadata": {},
   "source": [
    "<font size=4>\n",
    "The interest is to separate the digits that represent numbers. For example, the numbers associated with an address zip code.\n",
    "$$ $$    \n",
    "The features for this problem are represented by the variable $\\textbf X$ ($X_0$ = 0, $X_1$ = 1, $X_2$ = 2, $X_3$ = 3, $X_4$ = 4, $X_5$ = 5, $X_6$ = 6, $X_7$ = 7, $X_8$ = 8, $X_9$ = 9). "
   ]
  },
  {
   "cell_type": "code",
   "execution_count": null,
   "metadata": {
    "ExecuteTime": {
     "end_time": "2020-11-04T00:07:08.746768Z",
     "start_time": "2020-11-04T00:07:08.743930Z"
    }
   },
   "outputs": [],
   "source": [
    "import numpy as np\n",
    "from PIL import Image\n",
    "from sklearn.datasets import load_digits\n",
    "import matplotlib.pyplot as plt\n"
   ]
  },
  {
   "cell_type": "markdown",
   "metadata": {
    "ExecuteTime": {
     "end_time": "2020-11-03T13:35:49.361606Z",
     "start_time": "2020-11-03T13:35:49.355890Z"
    }
   },
   "source": [
    "<font size=5 color='blue'>\n",
    "\n",
    "Reading digits data set"
   ]
  },
  {
   "cell_type": "markdown",
   "metadata": {},
   "source": [
    "<font size=4 color='black'>\n",
    "\n",
    "[digits data set](https://scikit-learn.org/stable/modules/generated/sklearn.datasets.load_digits.html)"
   ]
  },
  {
   "cell_type": "code",
   "execution_count": null,
   "metadata": {
    "ExecuteTime": {
     "end_time": "2020-11-04T00:07:08.870684Z",
     "start_time": "2020-11-04T00:07:08.748126Z"
    }
   },
   "outputs": [],
   "source": [
    "digits = load_digits()\n",
    "\n",
    "data = digits.data\n"
   ]
  },
  {
   "cell_type": "code",
   "execution_count": null,
   "metadata": {
    "ExecuteTime": {
     "end_time": "2020-11-04T00:07:08.874629Z",
     "start_time": "2020-11-04T00:07:08.871898Z"
    }
   },
   "outputs": [],
   "source": [
    "print(data.shape)"
   ]
  },
  {
   "cell_type": "code",
   "execution_count": null,
   "metadata": {
    "ExecuteTime": {
     "end_time": "2020-11-04T00:07:08.887318Z",
     "start_time": "2020-11-04T00:07:08.876379Z"
    }
   },
   "outputs": [],
   "source": [
    "sample_num = 10\n",
    "\n",
    "print(data[sample_num,:])"
   ]
  },
  {
   "cell_type": "code",
   "execution_count": null,
   "metadata": {
    "ExecuteTime": {
     "end_time": "2020-11-04T00:07:08.899468Z",
     "start_time": "2020-11-04T00:07:08.888630Z"
    }
   },
   "outputs": [],
   "source": [
    "image_0=data[sample_num]"
   ]
  },
  {
   "cell_type": "code",
   "execution_count": null,
   "metadata": {
    "ExecuteTime": {
     "end_time": "2020-11-04T00:07:08.913335Z",
     "start_time": "2020-11-04T00:07:08.903615Z"
    }
   },
   "outputs": [],
   "source": [
    "image=image_0.reshape(8,8)"
   ]
  },
  {
   "cell_type": "code",
   "execution_count": null,
   "metadata": {
    "ExecuteTime": {
     "end_time": "2020-11-04T00:07:08.928607Z",
     "start_time": "2020-11-04T00:07:08.918187Z"
    }
   },
   "outputs": [],
   "source": [
    "print(image.shape)"
   ]
  },
  {
   "cell_type": "code",
   "execution_count": null,
   "metadata": {
    "ExecuteTime": {
     "end_time": "2020-11-04T00:07:09.000852Z",
     "start_time": "2020-11-04T00:07:08.932201Z"
    }
   },
   "outputs": [],
   "source": [
    "plt.imshow(image, cmap=plt.cm.gray)\n",
    "plt.axis('off')"
   ]
  },
  {
   "cell_type": "code",
   "execution_count": null,
   "metadata": {
    "ExecuteTime": {
     "end_time": "2020-11-04T00:07:09.005548Z",
     "start_time": "2020-11-04T00:07:09.002334Z"
    }
   },
   "outputs": [],
   "source": [
    "# Images colors will be inverted\n",
    "data=255.0-data"
   ]
  },
  {
   "cell_type": "code",
   "execution_count": null,
   "metadata": {
    "ExecuteTime": {
     "end_time": "2020-11-04T00:07:09.069135Z",
     "start_time": "2020-11-04T00:07:09.007530Z"
    }
   },
   "outputs": [],
   "source": [
    "plt.imshow(data[sample_num,:].reshape(8,8), cmap=plt.cm.gray)\n",
    "plt.axis('off')"
   ]
  },
  {
   "cell_type": "markdown",
   "metadata": {},
   "source": [
    "<font size=5 color='blue'>\n",
    "Generating the architecture of the learning model"
   ]
  },
  {
   "cell_type": "code",
   "execution_count": null,
   "metadata": {
    "ExecuteTime": {
     "end_time": "2020-11-04T00:07:09.072571Z",
     "start_time": "2020-11-04T00:07:09.070354Z"
    }
   },
   "outputs": [],
   "source": [
    "np.random.seed(1)\n",
    "model = KMeans(n_clusters=10,init='random')"
   ]
  },
  {
   "cell_type": "markdown",
   "metadata": {},
   "source": [
    "<font size=5 color='blue'>\n",
    "Machine that uses this model to find the clusters"
   ]
  },
  {
   "cell_type": "code",
   "execution_count": null,
   "metadata": {
    "ExecuteTime": {
     "end_time": "2020-11-04T00:07:09.226956Z",
     "start_time": "2020-11-04T00:07:09.073850Z"
    }
   },
   "outputs": [],
   "source": [
    "model.fit(data)"
   ]
  },
  {
   "cell_type": "markdown",
   "metadata": {},
   "source": [
    "<font size=5 color='blue'>\n",
    "\n",
    "Predicting the closest cluster to which each sample belongs in the data"
   ]
  },
  {
   "cell_type": "code",
   "execution_count": null,
   "metadata": {
    "ExecuteTime": {
     "end_time": "2020-11-04T00:07:09.234894Z",
     "start_time": "2020-11-04T00:07:09.228658Z"
    }
   },
   "outputs": [],
   "source": [
    "my_cluster = model.predict(data)\n",
    "print(my_cluster.shape)\n",
    "print(my_cluster)"
   ]
  },
  {
   "cell_type": "markdown",
   "metadata": {
    "ExecuteTime": {
     "end_time": "2020-11-03T23:09:13.239273Z",
     "start_time": "2020-11-03T23:09:13.235983Z"
    }
   },
   "source": [
    "<font size=5 color='blue'>\n",
    "\n",
    "Showing the predicted digits clusters"
   ]
  },
  {
   "cell_type": "code",
   "execution_count": null,
   "metadata": {
    "ExecuteTime": {
     "end_time": "2020-11-04T00:07:56.315684Z",
     "start_time": "2020-11-04T00:07:09.236338Z"
    },
    "scrolled": false
   },
   "outputs": [],
   "source": [
    "for i in range(0,10):  \n",
    "    \n",
    "    row = np.where(my_cluster==i)[0] \n",
    "    num = row.shape[0]      \n",
    "    \n",
    "    r = int(np.floor(num/10.))    \n",
    "    print(\"cluster \" + str(i))\n",
    "    print(str(num) + \" elements\")\n",
    "\n",
    "    plt.figure(figsize = (10,10))\n",
    "\n",
    "    # Showing the digits in each cluster\n",
    "    for k in range(0, num):\n",
    "        \n",
    "        plt.subplot(r+1, 10, k+1)\n",
    "               \n",
    "        imagen = data[row[k], ]\n",
    "        \n",
    "        imagen = imagen.reshape(8, 8)\n",
    "        \n",
    "        plt.imshow(imagen, cmap=plt.cm.gray)\n",
    "        plt.axis('off')\n",
    "\n",
    "    plt.show()"
   ]
  },
  {
   "cell_type": "code",
   "execution_count": null,
   "metadata": {},
   "outputs": [],
   "source": []
  },
  {
   "cell_type": "code",
   "execution_count": null,
   "metadata": {},
   "outputs": [],
   "source": []
  }
 ],
 "metadata": {
  "kernelspec": {
   "display_name": "Python 3",
   "language": "python",
   "name": "python3"
  },
  "language_info": {
   "codemirror_mode": {
    "name": "ipython",
    "version": 3
   },
   "file_extension": ".py",
   "mimetype": "text/x-python",
   "name": "python",
   "nbconvert_exporter": "python",
   "pygments_lexer": "ipython3",
   "version": "3.8.8"
  }
 },
 "nbformat": 4,
 "nbformat_minor": 1
}
