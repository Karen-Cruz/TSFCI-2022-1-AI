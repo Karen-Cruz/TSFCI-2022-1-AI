{
 "cells": [
  {
   "cell_type": "markdown",
   "metadata": {},
   "source": [
    "<font size=3 color='blue'>\n",
    "    \n",
    "  # <center>Clase 2, septiembre 29 del 2021</center> "
   ]
  },
  {
   "cell_type": "markdown",
   "metadata": {},
   "source": [
    "<font size=3 color='blue'>\n",
    "    \n",
    "  # <center>Ajuste de un conjunto de puntos con una función</center> "
   ]
  },
  {
   "cell_type": "markdown",
   "metadata": {},
   "source": [
    "<font size=2 color='blue'>\n",
    "    \n",
    "# Generación de las muestras\n",
    "\n",
    "<font size=4 >\n",
    "$$ $$\n",
    "Se genera un conjunto de $m$ numeros aleatorios ($(x_1,y_1),(x_2,y_2),…,(x_m,y_m)$)"
   ]
  },
  {
   "cell_type": "code",
   "execution_count": null,
   "metadata": {
    "ExecuteTime": {
     "end_time": "2021-03-10T18:10:51.827079Z",
     "start_time": "2021-03-10T18:10:51.233366Z"
    }
   },
   "outputs": [],
   "source": [
    "# Importing the python libraries\n",
    "\n",
    "import numpy as np\n",
    "import random\n",
    "from sklearn import linear_model\n",
    "from sklearn.metrics import mean_squared_error, r2_score\n",
    "import matplotlib.pyplot as plt\n",
    "%matplotlib inline\n",
    "\n",
    "# To have a reproducible code we use a random seed \n",
    "np.random.seed(3)"
   ]
  },
  {
   "cell_type": "code",
   "execution_count": null,
   "metadata": {
    "ExecuteTime": {
     "end_time": "2021-03-10T18:10:51.831374Z",
     "start_time": "2021-03-10T18:10:51.828319Z"
    }
   },
   "outputs": [],
   "source": [
    "# Esta función genera un conjunto de datos que simulan \n",
    "# la medición de la distancia de un carrito en un riel de aire\n",
    "# en la ausencia de una fuerza sobre el carrito.\n",
    "# Se propone un error en la medición de la distancia\n",
    "\n",
    "def generador_datos_simple(n_points, distance_0, measuring_time, speed, max_distance_error):\n",
    "    \n",
    "    \"\"\"\n",
    "      n_points: number of point that will be generated, integer\n",
    "      distance_0 : initial distantce (at time zero) \n",
    "      measuring_time: the time inteval used for the measurement\n",
    "      speed : carś speed\n",
    "      max_distance_error: Maximum error measuring distance\n",
    "      \n",
    "    \"\"\"\n",
    "    \n",
    "    # n_points es el número de puntos que serán generados\n",
    "    \n",
    "    x = np.random.random(n_points) * measuring_time\n",
    "     \n",
    "    # x es arreglo con n_points numeros aleatorios entre 0.0 y measuring_time\n",
    "    \n",
    "    error = np.random.randn(n_points) * max_distance_error \n",
    "    \n",
    "    # error es un error generado aleatoriamente con un valor maximo max_distance_error\n",
    "\n",
    "    y = distance_0 + speed*x + error \n",
    "        \n",
    "    return x, y\n"
   ]
  },
  {
   "cell_type": "code",
   "execution_count": null,
   "metadata": {
    "ExecuteTime": {
     "end_time": "2021-03-10T18:10:51.846367Z",
     "start_time": "2021-03-10T18:10:51.833024Z"
    }
   },
   "outputs": [],
   "source": [
    "# Generacción de las muestras (xi,yi)\n",
    "n_points = 1000\n",
    "distance_0 = 100.0\n",
    "measure_time = 100.0\n",
    "speed = 20.0\n",
    "max_distance_error = 100\n",
    "\n",
    "x, y = generador_datos_simple(n_points, distance_0, measure_time, speed, max_distance_error)\n",
    "\n",
    "print(\"x type\", type(x), \"x shape\", x.shape)\n",
    "print(\"y type\", type(y), \"y shape\", y.shape)"
   ]
  },
  {
   "cell_type": "markdown",
   "metadata": {
    "ExecuteTime": {
     "end_time": "2021-03-10T18:10:51.861200Z",
     "start_time": "2021-03-10T18:10:51.847822Z"
    }
   },
   "source": [
    "x = np.squeeze(x)\n",
    "y = np.squeeze(y)\n",
    "print(\"x type\", type(x), \"x shape\", x.shape)\n",
    "print(\"y type\", type(y), \"y shape\", y.shape)"
   ]
  },
  {
   "cell_type": "code",
   "execution_count": null,
   "metadata": {
    "ExecuteTime": {
     "end_time": "2021-03-10T18:10:51.993036Z",
     "start_time": "2021-03-10T18:10:51.862319Z"
    }
   },
   "outputs": [],
   "source": [
    "# Plotting y versus x\n",
    "\n",
    "plt.figure(figsize=(13,8))\n",
    "plt.rc('xtick', labelsize=16)\n",
    "plt.rc('ytick', labelsize=16)\n",
    "plt.rc('legend', fontsize=16)\n",
    "plt.ylabel('Y(cm)', fontsize=16)\n",
    "plt.xlabel('X(seg)', fontsize=16)\n",
    "\n",
    "plt.scatter(x, y)\n",
    "plt.show()"
   ]
  },
  {
   "cell_type": "markdown",
   "metadata": {},
   "source": [
    "<font size=2 color='blue'>\n",
    "\n",
    "# Buscando la correlación entre las muestras:\n",
    "\n"
   ]
  },
  {
   "cell_type": "markdown",
   "metadata": {},
   "source": [
    "<font size=4>\n",
    "\n",
    "Se tiene un conjunto de muestras (puntos) $(x_i, y_i)$, y se busca encontrar una función $F$ que describa una posible correlación entre ellos. $X$, con valores $x_i$ (en el presente caso el tiempo) es una variable independiente, mientras que $Y$, con los valores $y_i$ (la distancia en el presente caso) depende de $X$.\n",
    "\n",
    "Para encontrar la correlación entre las muestras, proponemos un conjunto de funciones definidas mediante la siguiente relación lineal:\n",
    "\n",
    "$$ F(X, W, b) = b + W X $$\n",
    "\n",
    "en donde los parámetros $b$ y $W$ son variables que deben ser actualizadas hasta encontrar los valores que definan la función que mejor describa la correlación entre $X$ y $Y$. $$ $$\n",
    "Vemos que esta relación funcional es derivable respecto a todas sus variables, $X, W, b$.\n",
    "La letra $W$ se emplea como abreviación de la palabra en ingles \"weight\", porque se relaciona con la importancia que tiene la variable $X$ en el valor de la función $F$. La letra b es la abreviación de la palabra \"bias\" en ingles, $Y$ se refiere a la referencia respecto a cero de la función $F$.\n"
   ]
  },
  {
   "cell_type": "markdown",
   "metadata": {},
   "source": [
    "<font size = 4>\n",
    "\n",
    "Para encontrar la función que describe la correlación entre los puntos, es necesario generar una métrica para describir qué tanto se acerca cada una de las funciones específicas (con valores definidos de $W$ y de $b$) a esta descripción.\n",
    "\n",
    "La métrica que se propone es la siguiente: $$ $$\n",
    "\n",
    "Para cada muestra $(x_i, y_i)$ se evalua $F(x_i,W,b)$ y se compara con el correspondiente valor $y_i$, la diferencia entre estos valores se eleva al cuadrado. $$ $$\n",
    "   $$ (F(x_i,w,b)-y_i)^{2}$$\n",
    "\n",
    "\n",
    "Finalmente se calcula el promedio de este valor sobre todas las muestras, el cual definimos como error cuadrático medio (MSE, por sus siglas en ingles, Mean Squared Error). \n",
    "Si m es el número de muestras, el MSE queda como:\n",
    "\n",
    "$$MSE = \\dfrac {1}{m}∑_{i=1}^{m}(F(x_i,w,b)-y_i)^{2} $$"
   ]
  },
  {
   "cell_type": "markdown",
   "metadata": {},
   "source": [
    "<font size=4, color='blue'>\n",
    "    \n",
    "En el siguiente código se implementa la generación del error cuadrático medio dada una función específica definida por los pesos iniciales $W$= weight_0, y $b$ = bias_0."
   ]
  },
  {
   "cell_type": "code",
   "execution_count": null,
   "metadata": {
    "ExecuteTime": {
     "end_time": "2021-03-10T18:10:51.997568Z",
     "start_time": "2021-03-10T18:10:51.994398Z"
    }
   },
   "outputs": [],
   "source": [
    "#Initializing the variables of the function f\n",
    "\n",
    "weight_0 = 10.0\n",
    "bias_0 = 100.0"
   ]
  },
  {
   "cell_type": "markdown",
   "metadata": {},
   "source": [
    "<font size=4 color=\"blue\">\n",
    "\n",
    "Se grafica la correspondiente función $F(X,W,b)$, junto con los puntos que representan a las muestras"
   ]
  },
  {
   "cell_type": "code",
   "execution_count": null,
   "metadata": {
    "ExecuteTime": {
     "end_time": "2021-03-10T18:10:52.008675Z",
     "start_time": "2021-03-10T18:10:51.999385Z"
    }
   },
   "outputs": [],
   "source": [
    "# Function for plotting (x,y) and (x,y_)\n",
    "\n",
    "def plot_x_y_y__(x, y, y_, points=True):\n",
    "    \n",
    "    plt.figure(figsize=(13,8))\n",
    "    plt.rc('xtick', labelsize=16)\n",
    "    plt.rc('ytick', labelsize=16)\n",
    "    plt.rc('legend', fontsize=16)\n",
    "    plt.ylabel('Y(cm)', fontsize=16)\n",
    "    plt.xlabel('X(seg)', fontsize=16)\n",
    "\n",
    "    #Plotting function\n",
    "    plt.plot(x, y_, color='green', lw=4, label='F(X, W, b)')\n",
    "    plt.legend()\n",
    "\n",
    "    #Plotting samples\n",
    "    plt.scatter(x, y)\n",
    "\n",
    "    plt.show()\n",
    "    \n",
    "    "
   ]
  },
  {
   "cell_type": "markdown",
   "metadata": {},
   "source": [
    "<font size=4>\n",
    "\n",
    "Se grafica la correspondiente función f para los valores $x_i$, así como las muestras $(x_i, y_i)$"
   ]
  },
  {
   "cell_type": "code",
   "execution_count": null,
   "metadata": {
    "ExecuteTime": {
     "end_time": "2021-03-10T18:10:52.164207Z",
     "start_time": "2021-03-10T18:10:52.010906Z"
    }
   },
   "outputs": [],
   "source": [
    "#The following arrays are generated for plotting the Function F(x, weight_0, bias_0)\n",
    "\n",
    "y_ = weight_0*x + bias_0\n",
    "\n",
    "# Using the function f, the residuos is calculated by comparing the calculated and measured values\n",
    "\n",
    "residuo = np.mean((y-y_)**2)\n",
    "\n",
    "print('residuo: {0:10.2f}'.format( residuo))\n",
    "\n",
    "plot_x_y_y__(x, y, y_, points=True)"
   ]
  },
  {
   "cell_type": "markdown",
   "metadata": {},
   "source": [
    "<font size=4>\n",
    "\n",
    "De la gráficas se observa que la función está lejos de describir la correlación entre los puntos. \n"
   ]
  },
  {
   "cell_type": "markdown",
   "metadata": {},
   "source": [
    "<font size=4 color=\"blue\">\n",
    "\n",
    "Los valores del peso $W$ y el bias $b$ se actualizan iterativamente a prueba y error. Para ello\n",
    "\n",
    "se hacen los cambios de acuerdo a la sugerencia de la observado en la gráfica. "
   ]
  },
  {
   "cell_type": "code",
   "execution_count": null,
   "metadata": {
    "ExecuteTime": {
     "end_time": "2021-03-10T18:10:52.168763Z",
     "start_time": "2021-03-10T18:10:52.165955Z"
    }
   },
   "outputs": [],
   "source": [
    "def update_weights_biases(x, y, weight, bias, delta_weight, delta_bias):\n",
    "    \n",
    "    weight = weight + delta_weight\n",
    "    \n",
    "    bias = bias + delta_bias\n",
    "\n",
    "    #The following date are for constructing the F(x,weight, bias)\n",
    "    \n",
    "    y_ = weight*x + bias\n",
    "       \n",
    "    residuo = np.mean((y - y_)**2)\n",
    "    \n",
    "    #print('residuo: {:10.2f}'.format(residuo))   \n",
    "        \n",
    "    return weight, bias, y_, residuo"
   ]
  },
  {
   "cell_type": "code",
   "execution_count": null,
   "metadata": {
    "ExecuteTime": {
     "end_time": "2021-03-10T18:10:52.345170Z",
     "start_time": "2021-03-10T18:10:52.170018Z"
    }
   },
   "outputs": [],
   "source": [
    "weight = weight_0\n",
    "bias = bias_0\n",
    "delta_w = 1.0\n",
    "delta_b = -10.0\n",
    "\n",
    "weight, bias, y_, residuo = update_weights_biases(x, y , weight, bias, delta_w, delta_b)\n",
    "plot_x_y_y__(x, y, y_, points=True) "
   ]
  },
  {
   "cell_type": "markdown",
   "metadata": {},
   "source": [
    "<font size=4>\n",
    "\n",
    "El cambio es muy pequeño, por ello el peso se actualiza con delta_weight = 2.0 y el bias con delta_bias= -100.0. "
   ]
  },
  {
   "cell_type": "code",
   "execution_count": null,
   "metadata": {
    "ExecuteTime": {
     "end_time": "2021-03-10T18:10:52.474464Z",
     "start_time": "2021-03-10T18:10:52.346456Z"
    }
   },
   "outputs": [],
   "source": [
    "weight = weight\n",
    "bias = bias\n",
    "delta_w = 6.0\n",
    "delta_b = -100.0\n",
    "\n",
    "weight, bias, y_, residuo = update_weights_biases(x, y, weight, bias, delta_w, delta_b)\n",
    "plot_x_y_y__(x, y, y_, points=True) "
   ]
  },
  {
   "cell_type": "markdown",
   "metadata": {},
   "source": [
    "<font size=4>\n",
    "\n",
    "Aun se puede mejorar disminuyendo el peso (pendiente) y aumentando el bias (ordenada en el origen):"
   ]
  },
  {
   "cell_type": "code",
   "execution_count": null,
   "metadata": {
    "ExecuteTime": {
     "end_time": "2021-03-10T18:10:52.602322Z",
     "start_time": "2021-03-10T18:10:52.475743Z"
    }
   },
   "outputs": [],
   "source": [
    "weight = weight\n",
    "bias = bias\n",
    "delta_w = 1.5\n",
    "delta_b = 50.0\n",
    "\n",
    "weight, bias, y_, residuo = update_weights_biases(x,y, weight, bias, delta_w, delta_b)\n",
    "plot_x_y_y__(x, y, y_, points=True) "
   ]
  },
  {
   "cell_type": "markdown",
   "metadata": {},
   "source": [
    "<font size=4>\n",
    "\n",
    "Se puede mejorar el resultado. Para ello se observa el cambio en el residuo con los cambios en $W$ y en $b$."
   ]
  },
  {
   "cell_type": "markdown",
   "metadata": {},
   "source": [
    "<font size=4 color='blue'>\n",
    "    \n",
    "Busquemos encontrar la función que defina la correlación generando un conjunto de\n",
    "    \n",
    "funciones y calcular los correspondientes residuos."
   ]
  },
  {
   "cell_type": "markdown",
   "metadata": {},
   "source": [
    "<font size=4>\n",
    "\n",
    "Para ello emplearemos la función **update_weight_bias()**, la cual actualiza los parametros $W$ y $b$."
   ]
  },
  {
   "cell_type": "code",
   "execution_count": null,
   "metadata": {
    "ExecuteTime": {
     "end_time": "2021-03-10T18:10:52.609942Z",
     "start_time": "2021-03-10T18:10:52.603517Z"
    }
   },
   "outputs": [],
   "source": [
    "update_outputs = []\n",
    "\n",
    "weight = weight_0\n",
    "bias = -3.0\n",
    "delta_w = 0.2 \n",
    "delta_b = 0.0\n",
    "iterations = 100\n",
    "\n",
    "for i in range(iterations):\n",
    "    \n",
    "    weight, bias, y_, residuo = update_weights_biases(x, y, weight, bias, delta_w, delta_b)\n",
    "    \n",
    "    update_outputs.append([weight, bias, y_, residuo])\n",
    "    \n",
    "    if i % 10 == 0 :\n",
    "            print('weight: {0:8.2f}    bias: {1:5.2f}   residuo: {2:10.2f}'.format(weight,bias, residuo))"
   ]
  },
  {
   "cell_type": "code",
   "execution_count": null,
   "metadata": {
    "ExecuteTime": {
     "end_time": "2021-03-10T18:10:52.960422Z",
     "start_time": "2021-03-10T18:10:52.611300Z"
    }
   },
   "outputs": [],
   "source": [
    "plt.figure(figsize=(13,8))\n",
    "plt.rc('xtick', labelsize=16)\n",
    "plt.rc('ytick', labelsize=16)\n",
    "plt.rc('legend', fontsize=12)\n",
    "plt.ylabel('Y', fontsize=16)\n",
    "plt.xlabel('X', fontsize=16)\n",
    "\n",
    "for i in range(0,50,3):\n",
    "\n",
    "    plt.plot(x, update_outputs[i][0]*x + update_outputs[i][1], label='v' + str(i), lw=3)\n",
    "    plt.legend()\n",
    "\n",
    "plt.scatter(x, y)\n",
    "\n",
    "plt.show()"
   ]
  },
  {
   "cell_type": "markdown",
   "metadata": {},
   "source": [
    "<font size=4>\n",
    "\n",
    "A continuación se grafica el residuo obtenido para cada función al variar el parámetro W.\n",
    " \n",
    " El valor óptimo del parámetro es aquel que minimiza al residuo. "
   ]
  },
  {
   "cell_type": "code",
   "execution_count": null,
   "metadata": {
    "ExecuteTime": {
     "end_time": "2021-03-10T18:10:53.084224Z",
     "start_time": "2021-03-10T18:10:52.961618Z"
    }
   },
   "outputs": [],
   "source": [
    "plt.figure(figsize=(13,8))\n",
    "plt.rc('xtick', labelsize=16)\n",
    "plt.rc('ytick', labelsize=16)\n",
    "plt.rc('legend', fontsize=16)\n",
    "plt.ylabel('Residuo', fontsize=18)\n",
    "plt.xlabel('W', fontsize=16)\n",
    "\n",
    "weights = []\n",
    "\n",
    "residuos = []\n",
    "\n",
    "for update_output in update_outputs:\n",
    "    \n",
    "    weights.append(update_output[0])\n",
    "    \n",
    "    residuos.append(update_output[3])\n",
    "        \n",
    "plt.scatter(weights, residuos)\n",
    "\n",
    "\n",
    "plt.show()"
   ]
  },
  {
   "cell_type": "markdown",
   "metadata": {},
   "source": [
    "<font size = 4>\n",
    "\n",
    "Como se observa en la grafica anterior, el mínimo del parámetro $W$ esta cerca de $W$= 22."
   ]
  },
  {
   "cell_type": "code",
   "execution_count": null,
   "metadata": {
    "ExecuteTime": {
     "end_time": "2021-03-10T18:10:53.090162Z",
     "start_time": "2021-03-10T18:10:53.085645Z"
    }
   },
   "outputs": [],
   "source": [
    "index_min = np.argmin(residuos)   # returns the index for the minimum value in the list\n",
    "\n",
    "print('El residuo mas pequeño tiene el valor: {0:10.2f}'.format(update_outputs[index_min][3]))\n",
    "\n",
    "w_opt = update_outputs[index_min][0]\n",
    "b_opt = update_outputs[index_min][1]\n",
    "\n",
    "print('Los valores optimos de los parámetros son W = {0:5.2f} y b = {1:5.2f} ' \\\n",
    "      .format(w_opt, b_opt))"
   ]
  },
  {
   "cell_type": "markdown",
   "metadata": {},
   "source": [
    "<font size = 4>\n",
    "\n",
    "Se grafica la recta con los valores óptimos encontrados w_opt and b_opt :"
   ]
  },
  {
   "cell_type": "code",
   "execution_count": null,
   "metadata": {
    "ExecuteTime": {
     "end_time": "2021-03-10T18:10:53.244934Z",
     "start_time": "2021-03-10T18:10:53.092053Z"
    }
   },
   "outputs": [],
   "source": [
    "y_ = w_opt*x + b_opt\n",
    "\n",
    "plot_x_y_y__(x, y, y_, points=True)"
   ]
  },
  {
   "cell_type": "markdown",
   "metadata": {},
   "source": [
    "<font size=4 color='blue'>\n",
    "Se genera la derivada parcial del residuo respecto a $W$ para cada valor de $W$ y se grafica."
   ]
  },
  {
   "cell_type": "code",
   "execution_count": null,
   "metadata": {},
   "outputs": [],
   "source": [
    "residuos_array = np.asarray(residuos)"
   ]
  },
  {
   "cell_type": "code",
   "execution_count": null,
   "metadata": {},
   "outputs": [],
   "source": [
    "residuos_grad = np.gradient(residuos_array)\n",
    "#residuos_grad"
   ]
  },
  {
   "cell_type": "code",
   "execution_count": null,
   "metadata": {},
   "outputs": [],
   "source": [
    "plt.figure(figsize=(13,8))\n",
    "plt.rc('xtick', labelsize=16)\n",
    "plt.rc('ytick', labelsize=16)\n",
    "plt.rc('legend', fontsize=16)\n",
    "plt.ylabel('Derivada del Residuo', fontsize=16)\n",
    "plt.xlabel('W', fontsize=16)\n",
    "plt.grid(True)\n",
    "plt.scatter(weights, residuos_grad)\n",
    "\n",
    "plt.show()"
   ]
  },
  {
   "cell_type": "markdown",
   "metadata": {},
   "source": [
    "<font size=4>\n",
    "\n",
    "En este caso, como el residuo es una parábola, su derivada esta dada por la recta. \n",
    "    \n",
    "$$ \\dfrac{∂Residuo}{∂{W}} = -\\dfrac {2}{m} ∑_{i=1}^{m}(y_i - b -Wx_i)x_i= -\\dfrac {2}{m} ∑_{i=1}^{m}(y_i x_i- b x_i-Wx_i^{2})$$\n",
    "\n",
    "$$ $$\n",
    "En general para cualquier otro problema, el residuo tendrá una forma muy diferente al de una parábola"
   ]
  },
  {
   "cell_type": "markdown",
   "metadata": {},
   "source": [
    "<font size=4 color='blue'>\n",
    "\n",
    "Se generan un conjunto de funciones dejando $W$ fija y variando $b$."
   ]
  },
  {
   "cell_type": "code",
   "execution_count": null,
   "metadata": {
    "ExecuteTime": {
     "end_time": "2021-03-10T18:10:53.252555Z",
     "start_time": "2021-03-10T18:10:53.246517Z"
    }
   },
   "outputs": [],
   "source": [
    "update_outputs = []\n",
    "\n",
    "weight =  w_opt\n",
    "bias = b_opt\n",
    "delta_w = 0.0\n",
    "delta_b = 1.0\n",
    "iterations = 100\n",
    "\n",
    "for i in range(iterations):\n",
    "    \n",
    "    weight, bias, y_, residuo = update_weights_biases(x, y, weight, bias, delta_w, delta_b)\n",
    "    \n",
    "    update_outputs.append([weight, bias, y_, residuo])\n",
    "    \n",
    "    if i % 10 == 0 :\n",
    "        print('weight: {0:5.2f},   bias: {1:5.2f},   residuo: {2:8.2f}'.format(weight,bias,residuo))"
   ]
  },
  {
   "cell_type": "code",
   "execution_count": null,
   "metadata": {
    "ExecuteTime": {
     "end_time": "2021-03-10T18:10:53.610125Z",
     "start_time": "2021-03-10T18:10:53.254063Z"
    },
    "scrolled": false
   },
   "outputs": [],
   "source": [
    "plt.figure(figsize=(13,8))\n",
    "plt.rc('xtick', labelsize=16)\n",
    "plt.rc('ytick', labelsize=16)\n",
    "plt.rc('legend', fontsize=12)\n",
    "plt.ylabel('Y', fontsize=16)\n",
    "plt.xlabel('X', fontsize=16)\n",
    "\n",
    "for i in range(0,50,3):\n",
    "\n",
    "    plt.plot(x, w_opt*x + update_outputs[i][1], label='v' + str(i), lw=3)\n",
    "    plt.legend()\n",
    "\n",
    "plt.scatter(x, y)\n",
    "\n",
    "plt.show()"
   ]
  },
  {
   "cell_type": "markdown",
   "metadata": {},
   "source": [
    "<font size=4>\n",
    "\n",
    "A continuación se grafica el residuo en función de $b$.\n",
    " \n",
    " El valor óptimo de $b$ es aquel que minimiza al residuo. "
   ]
  },
  {
   "cell_type": "code",
   "execution_count": null,
   "metadata": {
    "ExecuteTime": {
     "end_time": "2021-03-10T18:10:53.729369Z",
     "start_time": "2021-03-10T18:10:53.611324Z"
    }
   },
   "outputs": [],
   "source": [
    "plt.figure(figsize=(13,8))\n",
    "plt.rc('xtick', labelsize=16)\n",
    "plt.rc('ytick', labelsize=16)\n",
    "plt.rc('legend', fontsize=16)\n",
    "plt.ylabel('Residuo', fontsize=16)\n",
    "plt.xlabel('b', fontsize=16)\n",
    "\n",
    "bias = []\n",
    "\n",
    "residuos = []\n",
    "\n",
    "for update_output in update_outputs:\n",
    "    \n",
    "    bias.append(update_output[1])\n",
    "    \n",
    "    residuos.append(update_output[3])\n",
    "    \n",
    "plt.scatter(bias, residuos)\n",
    "\n",
    "plt.show()"
   ]
  },
  {
   "cell_type": "markdown",
   "metadata": {},
   "source": [
    "<font size = 4>\n",
    "\n",
    "Como se observa en la grafica el mínimo del residuo corresponde a un valor de $b$ cercano a 20."
   ]
  },
  {
   "cell_type": "code",
   "execution_count": null,
   "metadata": {
    "ExecuteTime": {
     "end_time": "2021-03-10T18:10:53.734801Z",
     "start_time": "2021-03-10T18:10:53.731101Z"
    }
   },
   "outputs": [],
   "source": [
    "index_min = np.argmin(residuos)   # returns the index for the minimum value in the list\n",
    "residuo_min = update_outputs[index_min][3]\n",
    "\n",
    "print('El residuo mas pequeño tiene el valor: {0:10.2f}'.format(residuo_min))\n",
    "\n",
    "w_opt = update_outputs[index_min][0]\n",
    "b_opt = update_outputs[index_min][1]\n",
    "\n",
    "print('Los valores optimos de los parámetros son W = {0:5.2f} y b = {1:5.2f} ' \\\n",
    "      .format(w_opt, b_opt))"
   ]
  },
  {
   "cell_type": "markdown",
   "metadata": {},
   "source": [
    "<font size = 4>\n",
    "\n",
    "Se grafica la recta empleando los valores óptimos $W$, w_opt, y $b$, b_opt."
   ]
  },
  {
   "cell_type": "code",
   "execution_count": null,
   "metadata": {
    "ExecuteTime": {
     "end_time": "2021-03-10T18:10:53.881689Z",
     "start_time": "2021-03-10T18:10:53.736700Z"
    }
   },
   "outputs": [],
   "source": [
    "y_ = w_opt*x + b_opt\n",
    "y_hand = y_\n",
    "\n",
    "plot_x_y_y__(x, y, y_, points=True)"
   ]
  },
  {
   "cell_type": "markdown",
   "metadata": {},
   "source": [
    "<font size=4 color='blue'>\n",
    "Se genera la derivada parcial del residuo respecto a $W$ para cada valor de $W$ y se grafica."
   ]
  },
  {
   "cell_type": "code",
   "execution_count": null,
   "metadata": {
    "ExecuteTime": {
     "end_time": "2021-03-10T18:10:53.901384Z",
     "start_time": "2021-03-10T18:10:53.889908Z"
    }
   },
   "outputs": [],
   "source": [
    "residuos_array = np.asarray(residuos)"
   ]
  },
  {
   "cell_type": "code",
   "execution_count": null,
   "metadata": {
    "ExecuteTime": {
     "end_time": "2021-03-10T18:10:53.915040Z",
     "start_time": "2021-03-10T18:10:53.903218Z"
    }
   },
   "outputs": [],
   "source": [
    "residuos_grad = np.gradient(residuos_array)\n",
    "#residuos_grad"
   ]
  },
  {
   "cell_type": "code",
   "execution_count": null,
   "metadata": {
    "ExecuteTime": {
     "end_time": "2021-03-10T18:10:54.067788Z",
     "start_time": "2021-03-10T18:10:53.916210Z"
    }
   },
   "outputs": [],
   "source": [
    "plt.figure(figsize=(13,8))\n",
    "plt.rc('xtick', labelsize=16)\n",
    "plt.rc('ytick', labelsize=16)\n",
    "plt.rc('legend', fontsize=16)\n",
    "plt.ylabel('Derivada del Residuo', fontsize=18)\n",
    "plt.xlabel('b', fontsize=18)\n",
    "\n",
    "bias = []\n",
    "\n",
    "residuos = []\n",
    "\n",
    "for update_output in update_outputs:\n",
    "    \n",
    "    bias.append(update_output[1])\n",
    "    \n",
    "    residuos.append(update_output[3])\n",
    "\n",
    "plt.grid(True)\n",
    "plt.scatter(bias, residuos_grad)\n",
    "\n",
    "plt.show()"
   ]
  },
  {
   "cell_type": "markdown",
   "metadata": {},
   "source": [
    "<font size=4>\n",
    "\n",
    "En este caso, como el residuo es una parábola, su derivada esta dada por la recta \n",
    "    \n",
    "$$ \\dfrac{∂Residuo}{∂{b}} = -\\dfrac {2}{m} ∑_{i=1}^{m}(y_i - b -Wx_i)$$\n",
    "\n",
    "$$ $$\n",
    "En general para cualquier otro problema, el residuo tendrá una forma muy diferente al de una parábola"
   ]
  },
  {
   "cell_type": "markdown",
   "metadata": {},
   "source": [
    "<font color = 'blue' size = 4>\n",
    "    \n",
    "## <center>Métodos alternativos para optimizar los parámetros $W$ y $b$</center>"
   ]
  },
  {
   "cell_type": "markdown",
   "metadata": {},
   "source": [
    "<font color = 'blue' size = 4>\n",
    "\n",
    "### Método simple de mínimos cuadrados, de acuerdo a Gauss"
   ]
  },
  {
   "cell_type": "markdown",
   "metadata": {},
   "source": [
    "<font size=4>\n",
    "\n",
    "El método de mínimos cuadrados nos permite encontrar una función que describe la correlación que tienen un conjunto m de puntos $(x_i, y_i)$, en donde $x_i$ son los valores que toma la variable $X$ y $y_i$ son los valores que toma la variable $Y$.\n",
    "\n",
    "\n",
    "El objetivo del algoritmo es obtener la relación entre la variable independiente $X$, y la variable dependiente $Y$.\n",
    "\n",
    "En el presente caso, se propone una función lineal para describir la correlación:\n",
    "\n",
    "$$ F(X,W,b) = b + W X $$\n",
    " \n",
    "\n",
    "Los parámetros variables $b$  y $W$ definen a la función $F$. \n",
    "\n",
    "Con el método simple de mínimos cuadrados se hallan los valores óptimos w_opt y b_opt de estas variables."
   ]
  },
  {
   "cell_type": "markdown",
   "metadata": {},
   "source": [
    "<font size = 4>\n",
    "\n",
    "La diferencia entre el valor real $y_i$ de $Y$ y el valor estimado $F(x_i, W, b)$ se denomina el residuo ($r_i$):\n",
    "\n",
    "$$ r_i = y_i - F(x_i, W, b) $$\n",
    "\n",
    "El objetivo del método de mínimos cuadrados es minimizar la suma del cuadrado de estos  residuos, es decir, encontrar el mínimo de la función Residuo:\n",
    "\n",
    "$$ Residuo = \\dfrac {1}{m} ∑_{i=1}^{m}(y_i - b -Wx_i)^{2} $$\n",
    "\n",
    "El mínimo de esta función, se encuentra en aquellos valores de $W$ ($W_{opt}$) y $b$ ($b_{opt}$) en donde la derivada de la función residuo es igual a zero. \n",
    "    \n",
    "    \n",
    "Para encontrar este mínimo, primero calculamos la derivada parcial de la función respecto a cada uno de los parámetros $W$ y $b$, después, cada derivada la igualamos a cero:\n",
    "\n",
    "$$ \\dfrac{∂Residuo}{∂{W}} =0⟶ W_{opt}=\\dfrac{∑_{i=1}^{n}(x_i–\\bar x)(y_i–\\bar y)}{∑_{i=1}^{m}(x_i–\\bar x)^2}$$\n",
    "\n",
    "\n",
    "$$ \\dfrac{∂Residuo}{∂{b}}=0⟶ b_{opt}=y – W_{opt} x $$\n",
    "\n",
    "en donde $\\bar x$ y $\\bar y$ son los valores promedio de los valores de las variables $X$ y $Y$.\n",
    "\n"
   ]
  },
  {
   "cell_type": "code",
   "execution_count": null,
   "metadata": {
    "ExecuteTime": {
     "end_time": "2021-03-10T18:10:54.074005Z",
     "start_time": "2021-03-10T18:10:54.069370Z"
    }
   },
   "outputs": [],
   "source": [
    "def mean_square_error(x, y):\n",
    "    \n",
    "    # 1) Se obtiene el promedio de los valores x_i y y_i\n",
    "\n",
    "    mean_x = np.mean(x)\n",
    "\n",
    "    mean_y = np.mean(y)\n",
    "\n",
    "    # 2) se calcula (x_i-x) y (y_i-y), con x e y los promedios de x_i e y_i, respectivamente.\n",
    "\n",
    "    x_i = []\n",
    "\n",
    "    for i in x:\n",
    "\n",
    "        x_i.append(np.squeeze(i) - mean_x)\n",
    "\n",
    "    y_i = []\n",
    "\n",
    "    for i in y:\n",
    "\n",
    "        y_i.append(np.squeeze(i) - mean_y)\n",
    "\n",
    "    # 3) se calcula (x_i-x)*(x_i-x)\n",
    "\n",
    "    x_i2 = np.power(x_i, 2)\n",
    "\n",
    "    # 4) se hacen las sumas correspondientes\n",
    "\n",
    "    xy_sum = 0\n",
    "\n",
    "    for i in range(len(x_i)):\n",
    "\n",
    "        xy_sum += x_i[i]*y_i[i]\n",
    "\n",
    "    x2_sum = 0\n",
    "\n",
    "    for i in range(len(x_i)):\n",
    "\n",
    "        x2_sum += x_i2[i]\n",
    "\n",
    "    # Se definen a w y b \n",
    "\n",
    "    w = xy_sum/x2_sum\n",
    "\n",
    "    b = mean_y - w*mean_x\n",
    "       \n",
    "    return w, b\n",
    "\n"
   ]
  },
  {
   "cell_type": "code",
   "execution_count": null,
   "metadata": {
    "ExecuteTime": {
     "end_time": "2021-03-10T18:10:54.087902Z",
     "start_time": "2021-03-10T18:10:54.075399Z"
    }
   },
   "outputs": [],
   "source": [
    "\n",
    "w_opt_mse, b_opt_mse = mean_square_error(x, y)\n",
    "\n",
    "print(\" w_opt = {0:5.2f}, b_opt = {1:5.2f}\".format(w_opt_mse,b_opt_mse))"
   ]
  },
  {
   "cell_type": "code",
   "execution_count": null,
   "metadata": {
    "ExecuteTime": {
     "end_time": "2021-03-10T18:10:54.262272Z",
     "start_time": "2021-03-10T18:10:54.089254Z"
    }
   },
   "outputs": [],
   "source": [
    "y_ = w_opt_mse*x + b_opt_mse\n",
    "\n",
    "plot_x_y_y__(x, y, y_, points=True)"
   ]
  },
  {
   "cell_type": "code",
   "execution_count": null,
   "metadata": {
    "ExecuteTime": {
     "end_time": "2021-03-10T18:10:54.391325Z",
     "start_time": "2021-03-10T18:10:54.388102Z"
    }
   },
   "outputs": [],
   "source": [
    "MSE = np.mean((y-w_opt*x-b_opt)**2)\n",
    "print('MSE: {0:10.2f}'.format(MSE))"
   ]
  },
  {
   "cell_type": "code",
   "execution_count": null,
   "metadata": {
    "ExecuteTime": {
     "end_time": "2021-03-10T18:10:54.534252Z",
     "start_time": "2021-03-10T18:10:54.392829Z"
    }
   },
   "outputs": [],
   "source": [
    "y_MSE = x*w_opt + b_opt\n",
    "\n",
    "plt.figure(figsize=(13,8))\n",
    "plt.rc('xtick', labelsize=16)\n",
    "plt.rc('ytick', labelsize=16)\n",
    "plt.rc('legend', fontsize=16)\n",
    "plt.ylabel('Y', fontsize=16)\n",
    "plt.xlabel('X', fontsize=16)\n",
    "\n",
    "\n",
    "plt.plot(x, y_hand, color='magenta', label='hand_MSE-residuo', lw=6)\n",
    "\n",
    "plt.plot(x, y_MSE, color='blue', label = 'Gauss_MSE-residuo', lw=3)\n",
    "\n",
    "plt.legend()\n",
    "\n",
    "plt.scatter(x, y)\n",
    "\n",
    "plt.show()\n"
   ]
  },
  {
   "cell_type": "markdown",
   "metadata": {},
   "source": [
    "<font size=4>\n",
    "\n",
    "Como vimos anteriormente, la función $F(X,W,b)$ que describe la correlacion entre las variables $X$ y $Y$, se obtiene definiendo la métrica descrita por la función $Residuo$.\n",
    "Cuando esta función Residuo tiene su mínimo (el error mínimo) su derivada es cero. Es por ello, que podriamos emplear el método de Newton-Raphson para encontrar este cero."
   ]
  },
  {
   "cell_type": "markdown",
   "metadata": {},
   "source": [
    "<font size=5 color='blue'>\n",
    "    \n",
    "Método de Newton-Raphson para encontrar el cero de una función. \n",
    "    \n",
    "Este método emplea la función y su derivada.\n",
    "    \n"
   ]
  },
  {
   "cell_type": "markdown",
   "metadata": {},
   "source": [
    "<font size=4>\n",
    "\n",
    "Otra alternativa para encontrar los valores de W y b para los cuales el residuo es mínimo es emplear un método iterativo desarrollado por Isaac Newton y Joseph Raphson en el siglo XVII para encontrar los ceros de una función. Hoy en día, este método es conocido como el método de Newton-Raphson.\n",
    "   \n",
    "Para emplear este método en nuestro caso se tendría que obtener la derivada de la función Residuo. Los valores de $W$ y $b$ se actualizarían empleando la siguiente relación:   \n",
    "    \n",
    " $$W_{new} = W_{actual} - \\dfrac {Residuo} {\\dfrac {∂Residuo}{∂{W}}}$$\n",
    "    \n",
    " $$b_{new} = b_{actual} - \\dfrac {Residuo} {\\dfrac {∂Residuo}{∂{b}}}$$"
   ]
  },
  {
   "cell_type": "markdown",
   "metadata": {},
   "source": [
    "<font size=4>\n",
    "\n",
    "El código que generaremos para emplear este método requiere un valor inicial de la variable que define la función, así como una epsilon para estimar si el error ya se puede considerar como cero. El método tambien toma en cuenta el número máximo de iteraciones que se deben realizar para encontrar este cero."
   ]
  },
  {
   "cell_type": "markdown",
   "metadata": {},
   "source": [
    "<font size=4>\n",
    "\n",
    "Para introducir este método emplearemos la función $f(x)$ que depende de $x$, y de la cual queremos obtener sus ceros. La expresión correspondiente queda como:\n",
    "\n",
    "\n",
    " $$x_{new} = x_{actual} - \\dfrac {f(x)} {\\dfrac {df(x)}{d{x}}}$$\n",
    "    "
   ]
  },
  {
   "cell_type": "markdown",
   "metadata": {},
   "source": [
    "<img src = \"NewtonIteration_Ani.gif\">\n",
    "\n",
    "(By Ralf Pfeifer - de:Image:NewtonIteration Ani.gif, CC BY-SA 3.0, https://commons.wikimedia.org/w/index.php?curid=2268473)"
   ]
  },
  {
   "cell_type": "markdown",
   "metadata": {},
   "source": [
    "<font size=4>\n",
    "A continuación definimos la función newton_raphson para implementar este método"
   ]
  },
  {
   "cell_type": "code",
   "execution_count": null,
   "metadata": {
    "ExecuteTime": {
     "end_time": "2021-03-10T18:10:54.541027Z",
     "start_time": "2021-03-10T18:10:54.536108Z"
    }
   },
   "outputs": [],
   "source": [
    "def newton_raphson(f, Df,x0,epsilon,max_iter):\n",
    "    '''Approximate solution of f(x)=0 by Newton's method.\n",
    "\n",
    "    Parameters\n",
    "    ----------\n",
    "    f : function\n",
    "        \n",
    "    Df : Derivative of f(x).\n",
    "    \n",
    "    x0 : Initial guess for finding the root of f(x).\n",
    "    \n",
    "    epsilon :Stopping criteria: the iteration ends when abs(f(x)) < epsilon.\n",
    "    \n",
    "    max_iter : Maximum number of iterations of Newton's method.\n",
    "\n",
    "    Returns\n",
    "    -------\n",
    "    xn : number\n",
    "        Implement Newton's method: compute the linear approximation\n",
    "        of f(x) at xn and find x intercept by the formula\n",
    "            x = xn - f(xn)/Df(xn)\n",
    "        Continue until abs(f(xn)) < epsilon and return xn.\n",
    "        If Df(xn) == 0, return None. If the number of iterations\n",
    "        exceeds max_iter, then return None.\n",
    "    '''\n",
    "    \n",
    "    aprox_root = [x0]\n",
    "    \n",
    "    xn = x0\n",
    "      \n",
    "    # xn es la aproximación de la raíz de f. Inicialmente xn =x0 con x0 la primera aproximación\n",
    "    \n",
    "    for n in range(0,max_iter):\n",
    "        \n",
    "        fxn = f(xn)\n",
    "       \n",
    "        #print(\"xn = \", xn, \"aprox_root = \", aprox_root)\n",
    "        \n",
    "        if abs(fxn) < epsilon:\n",
    "            \n",
    "            print(\"x = \", xn, \", f(x) = \", fxn, \", df(x)/dx = \", Dfxn)\n",
    "            print('The solution is found after',n,'iterations.')\n",
    "                        \n",
    "            return xn, aprox_root\n",
    "        \n",
    "        Dfxn = Df(xn)\n",
    "        \n",
    "        if Dfxn == 0:\n",
    "            \n",
    "            print('Zero derivative. No solution found.')\n",
    "            \n",
    "            return None\n",
    "        \n",
    "        print(\"x = \", xn, \", f(x) = \", fxn, \", df(x)/dx = \", Dfxn)\n",
    "        \n",
    "        xn = xn - fxn/Dfxn\n",
    "        \n",
    "        aprox_root.append(xn)\n",
    "        \n",
    "    print('Exceeded maximum iterations. No solution found.')\n",
    "    \n",
    "    return None"
   ]
  },
  {
   "cell_type": "markdown",
   "metadata": {},
   "source": [
    "<font size=4>\n",
    "\n",
    "Se prueba este método con una función simple"
   ]
  },
  {
   "cell_type": "code",
   "execution_count": null,
   "metadata": {
    "ExecuteTime": {
     "end_time": "2021-03-10T18:10:54.555045Z",
     "start_time": "2021-03-10T18:10:54.542858Z"
    }
   },
   "outputs": [],
   "source": [
    "#p = lambda x: x**3-27\n",
    "\n",
    "def p(x):\n",
    "    \n",
    "    return x**3-10"
   ]
  },
  {
   "cell_type": "code",
   "execution_count": null,
   "metadata": {
    "ExecuteTime": {
     "end_time": "2021-03-10T18:10:54.702094Z",
     "start_time": "2021-03-10T18:10:54.571966Z"
    }
   },
   "outputs": [],
   "source": [
    "x_ = np.arange(-10, 10, 0.2)\n",
    "print (x_.shape)\n",
    "sigma_samples = 5\n",
    "y_ = p(x_)\n",
    "print(y_[:5])\n",
    "\n",
    "plt.figure(figsize=(13,8))\n",
    "plt.rc('xtick', labelsize=16)\n",
    "plt.rc('ytick', labelsize=16)\n",
    "plt.rc('legend', fontsize=16)\n",
    "plt.ylabel('Y', fontsize=16)\n",
    "plt.xlabel('X', fontsize=16)\n",
    "\n",
    "\n",
    "plt.grid(True)\n",
    "\n",
    "plt.plot(x_, y_, \"o\", ms=5, alpha= 0.5, color='r')\n",
    "\n",
    "plt.show()\n",
    "\n",
    "#print(y_)"
   ]
  },
  {
   "cell_type": "markdown",
   "metadata": {},
   "source": [
    "<font size=4 color='blue'>\n",
    "Calculemos la derivada de la función"
   ]
  },
  {
   "cell_type": "code",
   "execution_count": null,
   "metadata": {
    "ExecuteTime": {
     "end_time": "2021-03-10T18:10:54.711206Z",
     "start_time": "2021-03-10T18:10:54.703891Z"
    }
   },
   "outputs": [],
   "source": [
    "#Dp = lambda x: 3*x**2 \n",
    "\n",
    "def Dp(x):\n",
    "    \n",
    "    return 3*x**2\n",
    "\n"
   ]
  },
  {
   "cell_type": "markdown",
   "metadata": {},
   "source": [
    "<font size=4 color='blue'>\n",
    "Para visualizar el método dibujemos la pendiente en cada punto en donde esta se calcula durante la búsqueda del cero."
   ]
  },
  {
   "cell_type": "code",
   "execution_count": null,
   "metadata": {
    "ExecuteTime": {
     "end_time": "2021-03-10T18:10:54.720905Z",
     "start_time": "2021-03-10T18:10:54.712767Z"
    }
   },
   "outputs": [],
   "source": [
    "def tangent_line(f, Df, x_0, a, b):\n",
    "        \n",
    "    x = np.linspace(a,b)\n",
    "    \n",
    "    y = f(x) \n",
    "    \n",
    "    y_0 = f(x_0)\n",
    "    \n",
    "    y_tan = Df(x_0) * (x - x_0) + y_0 \n",
    "    \n",
    "    plt.figure(figsize=(13,8))\n",
    "    plt.rc('xtick', labelsize=16)\n",
    "    plt.rc('ytick', labelsize=16)\n",
    "    plt.rc('legend', fontsize=16)\n",
    "    plt.ylabel('Y', fontsize=16)\n",
    "    plt.xlabel('X', fontsize=16)\n",
    "\n",
    "\n",
    "\n",
    "    #plt.plot(x,y,'r-')\n",
    "    plt.plot(x_, y_, \"o\", ms=5, alpha= 0.5, color='r')\n",
    "    \n",
    "    plt.plot(x,y_tan,'b-')\n",
    "    \n",
    "    plt.xlabel('x') \n",
    "    \n",
    "    plt.ylabel('y') \n",
    "    \n",
    "    plt.grid(True)\n",
    "    \n",
    "    plt.title('Plot of the function and its tangent at x') \n",
    "    \n",
    "    plt.show()  "
   ]
  },
  {
   "cell_type": "code",
   "execution_count": null,
   "metadata": {
    "ExecuteTime": {
     "end_time": "2021-03-10T18:10:55.577252Z",
     "start_time": "2021-03-10T18:10:54.722314Z"
    },
    "scrolled": false
   },
   "outputs": [],
   "source": [
    "\n",
    "for i in newton_raphson(p,Dp,7.5,0.001,50)[1]:\n",
    "\n",
    "    tangent_line(p, Dp, i, -10, 10)"
   ]
  },
  {
   "cell_type": "markdown",
   "metadata": {
    "ExecuteTime": {
     "end_time": "2021-03-10T17:24:10.676758Z",
     "start_time": "2021-03-10T17:24:10.673352Z"
    }
   },
   "source": [
    "<font size=4>\n",
    "\n",
    "Para aplicar este método en nuestro caso, es necesario implementarlo para dos variables ($W$ y $b$). Sin embargo, en nuestro caso el gradiente del Residuo varía linealmente con cada una de estas variables. Su pendiente es entonces constante.\n",
    "\n",
    "El método en general ha sido implementado para problemas con multivariables (número de variables mayor a 2)\n",
    "\n",
    "[Newton-Raphson Multivariate](./Literatura/Newton-Raphson-multivariate.pdf)"
   ]
  },
  {
   "cell_type": "markdown",
   "metadata": {},
   "source": [
    "<font size=4>\n",
    "\n",
    "Otra alternativa para encontrar los valores de $W$ y $b$ para los cuales el residuo es mínimo, es emplear un método iterativo desarrollado por Cauchy en el siglo XIX. Hoy en día este método de optimización es conocido como el método de gradiente descendente.\n",
    "    \n",
    "[Cauchy, Gradiente descendente](./Literatura/Cauchy_gradient-descent.pdf)\n",
    "    \n",
    "En este caso durante la optimización, los valores de los parámetros $W$ y $b$ cambian su valor disminuyéndolo con el respectivo valor del gradiente del residuo multiplicado par el factor $\\alpha$ (> 0).\n",
    "    \n",
    " $$W_{new} = W_{actual} - \\alpha \\dfrac{∂Residuo}{∂{W}}$$\n",
    "    \n",
    " $$b_{new} = b_{actual} - \\alpha \\dfrac{∂Residuo}{∂{b}}$$"
   ]
  },
  {
   "cell_type": "code",
   "execution_count": null,
   "metadata": {},
   "outputs": [],
   "source": []
  }
 ],
 "metadata": {
  "kernelspec": {
   "display_name": "Python 3",
   "language": "python",
   "name": "python3"
  },
  "language_info": {
   "codemirror_mode": {
    "name": "ipython",
    "version": 3
   },
   "file_extension": ".py",
   "mimetype": "text/x-python",
   "name": "python",
   "nbconvert_exporter": "python",
   "pygments_lexer": "ipython3",
   "version": "3.7.10"
  }
 },
 "nbformat": 4,
 "nbformat_minor": 2
}
