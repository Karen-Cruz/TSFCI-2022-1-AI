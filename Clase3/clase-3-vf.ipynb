{
 "cells": [
  {
   "cell_type": "markdown",
   "metadata": {
    "ExecuteTime": {
     "end_time": "2020-02-25T17:45:29.372399Z",
     "start_time": "2020-02-25T17:45:29.369243Z"
    }
   },
   "source": [
    "<font size=4 color='blue'>\n",
    "\n",
    "# <center>Clase 3, octubre 06 del 2021 <center>\n"
   ]
  },
  {
   "cell_type": "markdown",
   "metadata": {},
   "source": [
    "<font size=4 color='blue'>\n",
    "    \n",
    "## Problema a resolver\n"
   ]
  },
  {
   "cell_type": "markdown",
   "metadata": {},
   "source": [
    "<img src=\"./images/Problema.jpg\" width=420 height=420 align = \"center\" >"
   ]
  },
  {
   "cell_type": "markdown",
   "metadata": {},
   "source": [
    "<font size=4 >\n",
    "\n",
    "Movimiento de un objeto sin interacción.\n",
    "    Nos interesa concocer la distancia que recorre el objeto conforme pasa el tiempo. Las variables que definen nuestro problema son la distancia que recorre el objeto, Y(cm), para el tiempo $\\textbf{X}$(seg)."
   ]
  },
  {
   "cell_type": "markdown",
   "metadata": {},
   "source": [
    "<img src=\"./images/car-air-rail.png\" width=420 height=420 align = \"center\" >"
   ]
  },
  {
   "cell_type": "markdown",
   "metadata": {},
   "source": [
    "<font size=4 color='blue'>\n",
    "    \n",
    "## Generación de las muestras\n"
   ]
  },
  {
   "cell_type": "markdown",
   "metadata": {},
   "source": [
    "<font size=4 >\n",
    "Como el número de eventos (muestras) en un experimento en el laboratorio es reducido, simularemos el movimiento del carrito en el riel de aire."
   ]
  },
  {
   "cell_type": "markdown",
   "metadata": {},
   "source": [
    "\n",
    "<font size=4 >\n",
    "\n",
    "Se genera un conjunto de numeros aleatorios ($(x_1,y_1),(x_2,y_2),…,(x_n,y_n)$)"
   ]
  },
  {
   "cell_type": "code",
   "execution_count": null,
   "metadata": {},
   "outputs": [],
   "source": [
    "# Importing the python libraries\n",
    "\n",
    "import numpy as np\n",
    "\n",
    "import matplotlib.pyplot as plt\n",
    "%matplotlib inline\n",
    "\n",
    "# To have a reproducible code we use a random seed \n",
    "np.random.seed(3)"
   ]
  },
  {
   "cell_type": "code",
   "execution_count": null,
   "metadata": {},
   "outputs": [],
   "source": [
    "# Esta función genera un conjunto de datos que simulan \n",
    "# la medición de la distancia de un carrito en un riel de aire\n",
    "# en la ausencia de una fuerza sobre el carrito.\n",
    "# Se propone un error en la medición de la distancia\n",
    "\n",
    "def generador_datos_simple(n_points, distance_0, measuring_time, speed, max_distance_error):\n",
    "    \n",
    "    # n_points es el número de puntos que serán generados\n",
    "    \n",
    "    x = np.random.random(n_points) * measuring_time\n",
    "     \n",
    "    # x es arreglo con m numeros aleatorios entre 0.0 y measure_time\n",
    "    \n",
    "    error = np.random.randn(n_points) * max_distance_error \n",
    "    \n",
    "    # e es un error generado aleatoriamente con un valor maximo max_distance_error\n",
    "\n",
    "    y = distance_0 + speed*x + error \n",
    "        \n",
    "    return x, y\n"
   ]
  },
  {
   "cell_type": "code",
   "execution_count": null,
   "metadata": {},
   "outputs": [],
   "source": [
    "# Generacción de las muestras (x,yi)\n",
    "n_points = 1000\n",
    "distance_0 = 100.0\n",
    "measuring_time = 100.0\n",
    "speed = 20.0\n",
    "max_distance_error = 100\n",
    "\n",
    "x, y = generador_datos_simple(n_points, distance_0, measuring_time, speed, max_distance_error)\n",
    "\n",
    "print(\"x type\", type(x), \"x shape\", x.shape)\n",
    "print(\"y type\", type(y), \"y shape\", y.shape)"
   ]
  },
  {
   "cell_type": "code",
   "execution_count": null,
   "metadata": {},
   "outputs": [],
   "source": [
    "# Plotting y versus x\n",
    "\n",
    "plt.figure(figsize=(13,8))\n",
    "plt.rc('xtick', labelsize=16)\n",
    "plt.rc('ytick', labelsize=16)\n",
    "plt.rc('legend', fontsize=16)\n",
    "plt.ylabel('Y(cm)', fontsize=16)\n",
    "plt.xlabel('X(seg)', fontsize=16)\n",
    "\n",
    "plt.scatter(x, y)\n",
    "plt.show()"
   ]
  },
  {
   "cell_type": "markdown",
   "metadata": {},
   "source": [
    "<img src=\"./images/Muestras.png\" width=420 height=420 align = \"center\" >"
   ]
  },
  {
   "cell_type": "markdown",
   "metadata": {
    "ExecuteTime": {
     "end_time": "2020-02-25T17:53:57.795234Z",
     "start_time": "2020-02-25T17:53:57.789400Z"
    }
   },
   "source": [
    "<font size=5 color ='blue'>\n",
    "    \n",
    "Se generan histogramas de las variables $\\textbf{X}$ y $Y$"
   ]
  },
  {
   "cell_type": "code",
   "execution_count": null,
   "metadata": {
    "ExecuteTime": {
     "end_time": "2020-10-07T16:42:09.806626Z",
     "start_time": "2020-10-07T16:42:09.479183Z"
    },
    "scrolled": false
   },
   "outputs": [],
   "source": [
    "plt.figure(figsize=(13,5))\n",
    "plt.rc('xtick', labelsize=14)\n",
    "plt.rc('ytick', labelsize=14)\n",
    "plt.rc('legend', fontsize=14)\n",
    "\n",
    "plt.subplot(1, 2, 1)\n",
    "plt.hist(x, bins=30, edgecolor='black', alpha=0.5)\n",
    "plt.xlabel('tiempo(s)', fontsize=16)\n",
    "plt.ylabel('frecuencia', fontsize=16)\n",
    "\n",
    "\n",
    "plt.subplot(1, 2, 2)\n",
    "plt.hist(y, bins=30, edgecolor='black', alpha=0.5)\n",
    "plt.xlabel('distancia(cm)', fontsize=16)\n",
    "plt.ylabel('frecuencia', fontsize=16);"
   ]
  },
  {
   "cell_type": "markdown",
   "metadata": {},
   "source": [
    "<font size=5, color='blue'>\n",
    "    \n",
    "En busca de una función que describa la dependencia de $Y$ con $\\textbf{X}$ \n",
    "\n"
   ]
  },
  {
   "cell_type": "markdown",
   "metadata": {},
   "source": [
    "<font size=4>\n",
    "Para encontrar la dependencia entre estas variables, proponemos que esta relación es lineal.\n",
    "Por ello definimos la siguiene función:\n",
    "\n",
    "$$ \\hat Y= F(X, W, b) = b + W X $$\n",
    "\n",
    "en donde $b$ y $W$ son parámetros que determinad la función, y $ \\hat Y$ son los valores que genera.\n",
    "    \n",
    "Esta funcion es derivable respecto a todas sus variables, $X, W, b$.\n",
    "La letra $W$ se emplea como abreviación de la palabra en ingles \"weight\", porque se relaciona con la importancia que tiene la variable independiente $X$ en el valor de la función $F$. La letra $b$ es la abreviación de la palabra \"bias\" en ingles (sesgo en español). \n"
   ]
  },
  {
   "cell_type": "markdown",
   "metadata": {},
   "source": [
    "<img src=\"./images/AI-Correlation-function.png\" width=200 height=200 align = \"center\" >"
   ]
  },
  {
   "cell_type": "markdown",
   "metadata": {},
   "source": [
    "<font size=4, color='blue'>\n",
    "    \n",
    "Variando $\\textbf{W}$ y $b$ para encontrar la función que mejor describa la dependencia de $Y$ con la variable $\\textbf{X}$ "
   ]
  },
  {
   "cell_type": "markdown",
   "metadata": {},
   "source": [
    "<font size = 4>\n",
    "\n",
    "Para encontrar la función que debe describir la dependencia entre $\\textbf{X}$ y $Y$, es necesario generar una métrica que nos cuantifique la diferencia entre los valores $Y$ medidos y los valores $ \\hat Y$ que genera la función, para valores específicos de $\\textbf{W}$ y $b$.\n",
    "\n",
    "En el presente caso, se propone la siguiente métrica: para cada muestra $(x_i, y_i)$ se evalua $F(x_i,W,b)$ y se compara con el correspondiente valor $y_i$, la diferencia entre estos valores se eleva al cuadrado. $$ $$\n",
    "   $$ (F(x_i,W,b)-y_i)^{2}$$\n",
    "\n",
    "\n",
    "Finalmente se calcula el promedio de este valor sobre todas las muestras, el cual definimos como error cuadrático medio (MSE, por sus siglas en ingles, Mean Squared Error). \n",
    "Si m es el número de muestras, el error cuadrático medio queda como:\n",
    "\n",
    "$$MSE = \\dfrac {1}{m}∑_{i=1}^{m}(F(x_i,W,b)-y_i)^{2} $$"
   ]
  },
  {
   "cell_type": "markdown",
   "metadata": {},
   "source": [
    "<img src=\"./images/Metrica.png\" width=520 height=520 align = \"center\" >"
   ]
  },
  {
   "cell_type": "markdown",
   "metadata": {},
   "source": [
    "<font size=4, color='blue'>\n",
    "    \n",
    "En el siguiente código se implementa la generación del error cuadrático medio dada una función específica definida por los pesos iniciales w = weight_0, y b = bias_0."
   ]
  },
  {
   "cell_type": "code",
   "execution_count": null,
   "metadata": {},
   "outputs": [],
   "source": [
    "#Initializing the variables of the function f\n",
    "\n",
    "weight_0 = 10.0\n",
    "bias_0 = 100.0"
   ]
  },
  {
   "cell_type": "markdown",
   "metadata": {},
   "source": [
    "<font size=4 color=\"blue\">\n",
    "\n",
    "Se grafica la correspondiente función $F(X,w,b)$, junto con los puntos que representan a las muestras"
   ]
  },
  {
   "cell_type": "code",
   "execution_count": null,
   "metadata": {
    "ExecuteTime": {
     "end_time": "2020-10-07T16:42:10.015489Z",
     "start_time": "2020-10-07T16:42:09.814172Z"
    }
   },
   "outputs": [],
   "source": [
    "\n",
    "#The following arrays are generated for plotting the Function F(x, weight_0, bias_0)\n",
    "x_ = np.arange(0.0, measuring_time, 0.1)\n",
    "y_ = weight_0*x_ + bias_0\n",
    "\n",
    "\n",
    "# Using this function F, the residuos is calculated by comparing the calculated and measured values\n",
    "\n",
    "residuo = 0\n",
    "\n",
    "for i in range(len(x)):\n",
    "\n",
    "    residuo += (y[i] - weight_0*x[i] - bias_0)**2\n",
    "\n",
    "residuo = residuo/len(x)\n",
    "\n",
    "print('residuo:', residuo)\n",
    "\n",
    "# Samples and function F are plotted\n",
    "plt.figure(figsize=(13,8))\n",
    "\n",
    "#Plotting function\n",
    "plt.plot(x_, y_, color='green', lw=4, label='F(x, w, b)')\n",
    "plt.legend()\n",
    "plt.rc('xtick', labelsize=16)\n",
    "plt.rc('ytick', labelsize=16)\n",
    "plt.rc('legend', fontsize=16)\n",
    "plt.ylabel('Y(cm)', fontsize=16)\n",
    "plt.xlabel('X(seg)', fontsize=16)\n",
    "\n",
    "#Plotting samples\n",
    "plt.scatter(x, y)\n",
    "\n",
    "plt.show()"
   ]
  },
  {
   "cell_type": "markdown",
   "metadata": {
    "ExecuteTime": {
     "end_time": "2020-02-26T13:29:11.922916Z",
     "start_time": "2020-02-26T13:29:11.912479Z"
    }
   },
   "source": [
    "<font size=4, color='blue'>\n",
    "Se actualizan los valores de los parámetros W y b buscando reducir el error cuadrático medio."
   ]
  },
  {
   "cell_type": "markdown",
   "metadata": {},
   "source": [
    "<font size=4, color='blue'>\n",
    "\n",
    "Se emplea el método de gradiente descendente para realizar esta actualización.\n",
    "    \n",
    "[Cauchy, Gradiente descendente](./Literatura/Cauchy_gradient-descent.pdf)"
   ]
  },
  {
   "cell_type": "markdown",
   "metadata": {},
   "source": [
    "<font size=4 color='black'>\n",
    "    \n",
    "Los parámetros $W$ y $b$ se deben actualizar, de manera que el MSE, disminuya. \n",
    "\n",
    "Esto se realiza usando las siguientes relaciones:\n",
    "\n",
    "$$ W_{new} = W_{old} - \\alpha \\dfrac{\\partial MSE(W, b)}{\\partial W}$$\n",
    "\n",
    "$$ b_{new} = b_{old} - \\alpha \\dfrac{\\partial MSE(W, b)}{\\partial b}$$\n",
    "\n",
    "$\\alpha$, la relación de ajuste, es un hyper-parámetro del modelo, y controla la rapidez con que se varían a los parametros $W$ y $b$.\n",
    "\n",
    "\n",
    "Dado que el MSE, está definido mediante la relación siguiente:\n",
    "\n",
    "$$ MSE = \\dfrac{1}{m}∑_{i=1}^{m}(F(x_i,W,b) - y_i)^{2} = \\dfrac{1}{m}∑_{i=1}^{m}(W x_i + b -y_i)^2 $$\n",
    "\n",
    "las derivadas quedan como:\n",
    "\n",
    "$$ \\dfrac{\\partial MSE(W, b)}{\\partial W} = \\dfrac{2}{m}∑_{i=1}^{m}[(W x_i + b -y_i)(x_i)]$$\n",
    "\n",
    "$$ \\dfrac{\\partial MSE(W, b)}{\\partial b} = \\dfrac{2}{m}∑_{i=1}^{m}[(W x_i + b -y_i)]$$\n",
    "\n"
   ]
  },
  {
   "cell_type": "markdown",
   "metadata": {},
   "source": [
    "<img src=\"./images/W-b-update.png\" width=620 height=620 align = \"center\" >\n"
   ]
  },
  {
   "cell_type": "code",
   "execution_count": null,
   "metadata": {
    "ExecuteTime": {
     "end_time": "2020-10-07T16:42:10.056829Z",
     "start_time": "2020-10-07T16:42:10.036187Z"
    }
   },
   "outputs": [],
   "source": [
    "#Function to update weight and bias\n",
    "\n",
    "def update_parameters(x, y, weight, bias, alfa, num_iteraciones):\n",
    "    \n",
    "    # inicializacion de parametros\n",
    "\n",
    "    alfa = alfa\n",
    "    residuo = 0\n",
    "    d_w = 0.0\n",
    "    d_b = 0.0\n",
    "    m = len(x)\n",
    "\n",
    "    # Especificaciones de las graficas\n",
    "    plt.figure(figsize=(22,8))    \n",
    "    \n",
    "    ax1 = plt.subplot(1,3,1)\n",
    "    ax2 = plt.subplot(1,3,2)\n",
    "    ax3 = plt.subplot(1,3,3)\n",
    "    \n",
    "    ax1.scatter(x, y)\n",
    "\n",
    "    ax1.set_title('Y vs X', size=24)\n",
    "    ax1.set_xlabel('X', size=20)\n",
    "    ax1.set_ylabel('Y', size=20)\n",
    "\n",
    "    # Recta generada con los parametros iniciales\n",
    "\n",
    "    y_ = weight*x + bias\n",
    "    \n",
    "    ax1.plot(x, y_, color='green', lw=4 )\n",
    "    \n",
    "    weights = []\n",
    "    biases = []\n",
    "    residuos = []\n",
    "    \n",
    "    for i in range(num_iteraciones):\n",
    "\n",
    "        # calculo de derivadas y el residuo\n",
    "\n",
    "        for i in range(m):\n",
    "\n",
    "            r = (y[i]-weight*x[i] - bias)**2\n",
    "\n",
    "            d_w += 2*(weight*x[i] + bias- y[i])*x[i]\n",
    "            \n",
    "            d_b += 2*(weight*x[i]+bias-y[i])\n",
    "\n",
    "            residuo += r\n",
    "\n",
    "        residuo /= m\n",
    "\n",
    "        d_w /= m\n",
    "\n",
    "        d_b /= m\n",
    "        \n",
    "        weights.append(weight)\n",
    "        biases.append(bias)\n",
    "        residuos.append(residuo)\n",
    "        \n",
    "        # Actualizacion de los parametros\n",
    "\n",
    "        weight = weight - alfa*d_w\n",
    "        bias = bias - alfa*d_b\n",
    "\n",
    "\n",
    "        # Recta generada con la actualizacion de los parametros\n",
    "        \n",
    "        y_ = weight*x + bias\n",
    "        \n",
    "        ax1.plot(x, y_, lw=4 )\n",
    "\n",
    "        # Grafica de los residuos como funcion de uno de los parametros (el peso)\n",
    "        \n",
    "        ax2.scatter(weight, residuo)\n",
    "        ax2.set_title('MSE vs weight', size=24)\n",
    "        ax2.set_xlabel('weight', size=22)\n",
    "        ax2.set_ylabel('MSE', size=22)\n",
    "\n",
    "        # Grafica de los residuos como funcion de uno de los parametros (el bias)\n",
    "        \n",
    "        ax3.scatter(bias, residuo)\n",
    "        ax3.set_title('MSE vs bias', size=24)\n",
    "        ax3.set_xlabel('bias', size=22)\n",
    "        ax3.set_ylabel('MSE', size=22)\n",
    "\n",
    "\n",
    "    return weights, biases, residuos"
   ]
  },
  {
   "cell_type": "code",
   "execution_count": null,
   "metadata": {
    "ExecuteTime": {
     "end_time": "2020-10-07T16:42:12.807568Z",
     "start_time": "2020-10-07T16:42:10.074437Z"
    },
    "scrolled": false
   },
   "outputs": [],
   "source": [
    "# inicializacion de parametros\n",
    "\n",
    "weight = weight_0 \n",
    "bias = bias_0 \n",
    "alfa = 0.00001\n",
    "num_iter = 100\n",
    "weights, biases, residuos = update_parameters(x, y, weight, bias, alfa, num_iter)"
   ]
  },
  {
   "cell_type": "markdown",
   "metadata": {
    "ExecuteTime": {
     "end_time": "2020-02-21T21:44:25.901099Z",
     "start_time": "2020-02-21T21:44:25.895259Z"
    }
   },
   "source": [
    "<font size=4, color='blue'>\n",
    "Se grafica del error cuadrático medio, MSE, como función de cada iteración en que se modificaron  $b$, y $W$."
   ]
  },
  {
   "cell_type": "code",
   "execution_count": null,
   "metadata": {
    "ExecuteTime": {
     "end_time": "2020-10-07T16:42:12.936440Z",
     "start_time": "2020-10-07T16:42:12.809025Z"
    }
   },
   "outputs": [],
   "source": [
    "plt.figure(figsize=(12, 7))\n",
    "plt.scatter(range(num_iter), residuos, color='blue')\n",
    "plt.title('MSE vs Iteración', size=20)\n",
    "plt.xlabel('Iteración', size=20)\n",
    "plt.ylabel('MSE', size=20);"
   ]
  },
  {
   "cell_type": "markdown",
   "metadata": {},
   "source": [
    "<font size=5, color='blue'>\n",
    "\n",
    "Resumen del ajuste"
   ]
  },
  {
   "cell_type": "markdown",
   "metadata": {},
   "source": [
    "<img src=\"./images/Ajuste-datos.png\" width=620 height=620 align = \"center\" >"
   ]
  },
  {
   "cell_type": "markdown",
   "metadata": {},
   "source": [
    "<font size=5, color='blue'>\n",
    "<center> Una alternativa para analizar el ajuste"
   ]
  },
  {
   "cell_type": "markdown",
   "metadata": {},
   "source": [
    "<font size=4, color='blue'>\n",
    "\n",
    "Ahora enriquecemos la técnica que hemos descrito, dejando parte del total de las muestras para evaluar el ajuste que se obtiene."
   ]
  },
  {
   "cell_type": "markdown",
   "metadata": {
    "ExecuteTime": {
     "end_time": "2020-10-05T19:53:06.445592Z",
     "start_time": "2020-10-05T19:53:06.437464Z"
    }
   },
   "source": [
    "<font size=4>\n",
    "\n",
    "División de los datos para evaluar del ajuste despues de obtener los valores óptimos de $W$ y $b$\n"
   ]
  },
  {
   "cell_type": "markdown",
   "metadata": {
    "ExecuteTime": {
     "end_time": "2020-02-21T21:45:26.197814Z",
     "start_time": "2020-02-21T21:45:26.192320Z"
    }
   },
   "source": [
    "<font size=4>\n",
    "El total de los datos son divididos en dos grupos: uno con el 90 % de los datos (muestras_ajustar) y el segundo con el restante 10 % (muestras_test)"
   ]
  },
  {
   "cell_type": "markdown",
   "metadata": {},
   "source": [
    "<img src=\"./images/Muestras-ajustar-prueba.png\" width=550 height=550 align = \"center\" >"
   ]
  },
  {
   "cell_type": "markdown",
   "metadata": {},
   "source": [
    "<font size=4>\n",
    "A continuación desarrollamos el código para reordenar los datos al azar, y separlos en dos partes"
   ]
  },
  {
   "cell_type": "markdown",
   "metadata": {},
   "source": [
    "<font size=4>\n",
    "    \n",
    "La funcion shuffle reordena de forma aleatoria la posicion de un conjunto de datos en una lista.\n",
    "\n",
    "     x = [ 1, 5, 7, 3, 8]\n",
    "     shuffle(x) = [5, 8, 3, 1, 7]\n",
    "\n",
    " La funcion zip permite hacer conjuntos ordenados de datos combinando dos vectores de igual dimensión, por ejemplo\n",
    "\n",
    "     x = [1, 2, 3]\n",
    "     y = [5, 6, 7]\n",
    "    \n",
    "     zip(x, y) = ((1, 5), (2, 6), (3, 7))\n",
    "    \n",
    " De esta manera, junto con la funcion shuffle, se asegura que los datos correspondientes a $x$ y $y$ intercambian su posición de la misma manera.\n",
    " \n",
    "\n",
    "Por otra parte, la operación zip(*a) separa los datos a que inicialmente están mezclados\n",
    "    \n",
    "a = [[1,2,3,4],['a','b','c'],[7,8,9]]\n",
    "b = zip(*a)\n",
    "    \n",
    "for c in b:\n",
    "    print(c)\n",
    "    \n",
    "(1, 'a', 7)\n",
    "(2, 'b', 8)\n",
    "(3, 'c', 9)\n",
    "    "
   ]
  },
  {
   "cell_type": "code",
   "execution_count": null,
   "metadata": {
    "ExecuteTime": {
     "end_time": "2020-10-07T16:42:13.207289Z",
     "start_time": "2020-10-07T16:42:12.937893Z"
    },
    "scrolled": false
   },
   "outputs": [],
   "source": [
    "# Los datos se cambian de posicion aleatoriamente\n",
    "\n",
    "from random import shuffle\n",
    "\n",
    "c = list(zip(x, y)) \n",
    "\n",
    "shuffle(c)\n",
    "    \n",
    "(x, y) = zip(*c)\n",
    "\n",
    "print(\"Número total de muestras:\", len(x))\n",
    "\n",
    "# Los datos se dividen\n",
    "\n",
    "muestras_ajustar = (x[0:int(0.90*len(x))], y[0:int(0.90*len(y))])\n",
    "print(\"Número de muestras para ajustar:\", len(muestras_ajustar[0]))\n",
    "\n",
    "muestras_test = (x[int(0.90*len(x)):], y[int(0.90*len(y)):])\n",
    "print(\"Número de muestras para evaluar el ajuste\", len(muestras_test[0]))\n",
    "\n",
    "plt.figure(figsize=(15, 8))\n",
    "plt.subplot(1, 2, 1)\n",
    "plt.scatter(muestras_ajustar[0], muestras_ajustar[1])\n",
    "plt.title('Muestras_ajustar', size=20)\n",
    "plt.xlabel('Tiempo(s)', size =15)\n",
    "plt.ylabel('Distancia(cm)', size =15)\n",
    "plt.subplot(1, 2, 2)\n",
    "plt.scatter(muestras_test[0], muestras_test[1], color='red')\n",
    "plt.title('Muestras_prueba', size=20)\n",
    "plt.xlabel('Tiempo(s)', size =15)\n",
    "plt.ylabel('Distancia(cm)', size =15);"
   ]
  },
  {
   "cell_type": "markdown",
   "metadata": {},
   "source": [
    "<font size =5, color = 'blue'>\n",
    "    \n",
    "Normalizacion de las muestras que se emplearan para el ajuste\n",
    " "
   ]
  },
  {
   "cell_type": "markdown",
   "metadata": {},
   "source": [
    "<font size=4 color='b'>\n",
    "    \n",
    " Si se normalizan los datos con 3 veces la desviacion estandar, el 99.7 de los datos tendrán valores entre -1 y 1. El rango con que se normaliza tambien se puede variar entre una desviación o dos desviaciones estandar. En el primer caso el 68 % de los datos tendrán valores entre -1 y 1, mientras que en el segundo caso este rango correspondera al 95 % de los datos."
   ]
  },
  {
   "cell_type": "markdown",
   "metadata": {},
   "source": [
    "<img src=\"./images/Standard-deviation.png\" width=420 height=420 align = \"center\" >"
   ]
  },
  {
   "cell_type": "markdown",
   "metadata": {},
   "source": [
    "<font size=4 color='red'>\n",
    "\n",
    "Normalmente los datos se normalizan con sólo una desviación estandar. Esto es lo que aplicaremos para el resto del curso"
   ]
  },
  {
   "cell_type": "markdown",
   "metadata": {
    "ExecuteTime": {
     "end_time": "2020-02-25T18:02:38.947376Z",
     "start_time": "2020-02-25T18:02:38.937805Z"
    }
   },
   "source": [
    "<font size=4, color='blue'>\n",
    "Los valores se normalizan usando solo una desviación estandar, de manera que el 68 % de los datos quedan con valores entre -1 y +1."
   ]
  },
  {
   "cell_type": "code",
   "execution_count": null,
   "metadata": {
    "ExecuteTime": {
     "end_time": "2020-10-07T16:42:13.211390Z",
     "start_time": "2020-10-07T16:42:13.208760Z"
    }
   },
   "outputs": [],
   "source": [
    "x_ajustar = muestras_ajustar[0]\n",
    "y_ajustar = muestras_ajustar[1]"
   ]
  },
  {
   "cell_type": "code",
   "execution_count": null,
   "metadata": {
    "ExecuteTime": {
     "end_time": "2020-10-07T16:42:14.111633Z",
     "start_time": "2020-10-07T16:42:14.101558Z"
    }
   },
   "outputs": [],
   "source": [
    "mean_distance = np.mean(y_ajustar)\n",
    "std_distance = np.std(y_ajustar)\n",
    "\n",
    "ajustar_y = (y_ajustar-mean_distance)/std_distance\n",
    "\n",
    "mean_time = np.mean(x_ajustar)\n",
    "std_time = np.std(x_ajustar)\n",
    "\n",
    "ajustar_x = (x_ajustar-mean_time)/std_time"
   ]
  },
  {
   "cell_type": "code",
   "execution_count": null,
   "metadata": {
    "ExecuteTime": {
     "end_time": "2020-10-07T16:42:14.358683Z",
     "start_time": "2020-10-07T16:42:14.112816Z"
    }
   },
   "outputs": [],
   "source": [
    "plt.figure(figsize=(13,5))\n",
    "plt.rc('xtick', labelsize=14)\n",
    "plt.rc('ytick', labelsize=14)\n",
    "plt.rc('legend', fontsize=14)\n",
    "\n",
    "\n",
    "plt.subplot(1, 2, 1)\n",
    "plt.hist(ajustar_x, bins=30,color='blue', edgecolor='b', alpha=0.5)\n",
    "plt.xlabel('Tiempo(unidades relativas)', fontsize=14)\n",
    "plt.ylabel('Frecuencia',fontsize=14)\n",
    "\n",
    "\n",
    "plt.subplot(1, 2, 2)\n",
    "plt.hist(ajustar_y, bins=30,color='blue', edgecolor='b', alpha=0.5)\n",
    "plt.xlabel('Distancia(unidades relativas)',fontsize=14)\n",
    "plt.ylabel('Frecuencia',fontsize=14);"
   ]
  },
  {
   "cell_type": "markdown",
   "metadata": {},
   "source": [
    "<font size=4, color='blue'>\n",
    "Se vuelve a correr el ajuste de datos empleando el metodo de gradiente descendente, pero usando sólo el conjunto de datos correspondiente al 90 %"
   ]
  },
  {
   "cell_type": "code",
   "execution_count": null,
   "metadata": {
    "ExecuteTime": {
     "end_time": "2020-10-07T16:42:17.058485Z",
     "start_time": "2020-10-07T16:42:14.360442Z"
    },
    "scrolled": true
   },
   "outputs": [],
   "source": [
    "\n",
    "weight_0 = np.random.random()\n",
    "bias_0 = np.random.random()\n",
    "print(weight_0, bias_0)\n",
    "\n",
    "alfa = 0.04       #relación de ajuste\n",
    "num_iter = 100    #número de iteraciones\n",
    "\n",
    "weights, biases, MSE = update_parameters(ajustar_x, ajustar_y, weight_0, bias_0, alfa, num_iter)\n"
   ]
  },
  {
   "cell_type": "markdown",
   "metadata": {
    "ExecuteTime": {
     "end_time": "2020-02-21T21:48:14.609543Z",
     "start_time": "2020-02-21T21:48:14.599770Z"
    }
   },
   "source": [
    "<font size=4, color='blue'>\n",
    "Graficar el error cuadrático medio obtenido como función del número de iteración"
   ]
  },
  {
   "cell_type": "code",
   "execution_count": null,
   "metadata": {
    "ExecuteTime": {
     "end_time": "2020-10-07T16:42:17.197759Z",
     "start_time": "2020-10-07T16:42:17.062123Z"
    },
    "scrolled": false
   },
   "outputs": [],
   "source": [
    "plt.figure(figsize=(11, 6))\n",
    "plt.scatter(range(num_iter), MSE, color='blue')\n",
    "plt.title('MSE vs iteración', size=20)\n",
    "plt.xlabel('iteración', size=15)\n",
    "plt.ylabel('MSE', size=15);\n"
   ]
  },
  {
   "cell_type": "code",
   "execution_count": null,
   "metadata": {
    "ExecuteTime": {
     "end_time": "2020-10-07T16:42:17.203685Z",
     "start_time": "2020-10-07T16:42:17.199975Z"
    }
   },
   "outputs": [],
   "source": [
    "def MSE(x, y, weight, bias):\n",
    "    \n",
    "    r = 0\n",
    "\n",
    "    m = len(x)\n",
    "    \n",
    "    for i in range(m):\n",
    "\n",
    "        r += (y[i]-weight*x[i] - bias)**2\n",
    "\n",
    "    r /= m\n",
    "    \n",
    "    return r"
   ]
  },
  {
   "cell_type": "code",
   "execution_count": null,
   "metadata": {
    "ExecuteTime": {
     "end_time": "2020-10-07T16:42:17.263474Z",
     "start_time": "2020-10-07T16:42:17.205297Z"
    }
   },
   "outputs": [],
   "source": [
    "print(\"El MSE mínimo durante el ajuste es =  %.5f\" \\\n",
    "      %MSE(ajustar_x, ajustar_y, weights[-1], biases[-1]))\n"
   ]
  },
  {
   "cell_type": "markdown",
   "metadata": {
    "ExecuteTime": {
     "end_time": "2020-02-21T21:50:17.258618Z",
     "start_time": "2020-02-21T21:50:17.253823Z"
    }
   },
   "source": [
    "<font size=4, color='blue'>\n",
    "Con los valores optimos de $b$ y $W$, se calcula el error cuadrático medio que se obtiene con el 10 % de los datos restantes."
   ]
  },
  {
   "cell_type": "markdown",
   "metadata": {
    "ExecuteTime": {
     "end_time": "2020-10-05T23:46:16.978156Z",
     "start_time": "2020-10-05T23:46:16.973573Z"
    }
   },
   "source": [
    "<font size=4, color='black'>\n",
    "\n",
    "Para calcular el residuo asociado a las muestras_test, estas se normalizan con los parámetros (valor medio y desviación estandar) utilizados para normalizar los datos de las muestras_ajustar."
   ]
  },
  {
   "cell_type": "code",
   "execution_count": null,
   "metadata": {
    "ExecuteTime": {
     "end_time": "2020-10-07T16:42:17.276180Z",
     "start_time": "2020-10-07T16:42:17.265788Z"
    }
   },
   "outputs": [],
   "source": [
    "test_y = (muestras_test[1]-mean_distance)/std_distance\n",
    "\n",
    "test_x = (muestras_test[0]-mean_time)/std_time\n",
    "\n",
    "print(\"MSE_prueba =  %.5f\" %MSE(test_x, test_y, weights[-1], biases[-1]))"
   ]
  },
  {
   "cell_type": "markdown",
   "metadata": {
    "ExecuteTime": {
     "end_time": "2020-10-05T19:53:06.445592Z",
     "start_time": "2020-10-05T19:53:06.437464Z"
    }
   },
   "source": [
    "<font size=5, color='blue'>\n",
    "\n",
    "<center>Otra forma de evaluar el ajuste obtenido."
   ]
  },
  {
   "cell_type": "markdown",
   "metadata": {},
   "source": [
    "<font size=4>\n",
    "   \n",
    "En este caso, las muestras seleccionadas para hacer el ajuste se dividen en dos grupos:\n",
    "\n",
    "El 90 % (este valor es solo un ejemplo) de ellas se emplea para hacer el ajuste, mientras que\n",
    "    \n",
    "el 10 % restantes se emplean para evaluar el error cuadrático medio que se obtiene en cada iteración del ajuste.\n"
   ]
  },
  {
   "cell_type": "markdown",
   "metadata": {
    "ExecuteTime": {
     "end_time": "2020-10-06T14:51:27.055986Z",
     "start_time": "2020-10-06T14:51:27.050069Z"
    }
   },
   "source": [
    "<font size=4, color='black'>\n",
    "\n",
    "Modificamos la función que se tiene para actualizar $W$ y $b$ en cada ciclo. Esta nueva función recibe la proporción de los datos de ajuste que se emplean para validar el ajuste."
   ]
  },
  {
   "cell_type": "code",
   "execution_count": null,
   "metadata": {
    "ExecuteTime": {
     "end_time": "2020-10-07T16:42:17.306912Z",
     "start_time": "2020-10-07T16:42:17.293773Z"
    }
   },
   "outputs": [],
   "source": [
    "#Function to update weight and bias\n",
    "\n",
    "def update_parameters_1(x, y, weight, bias, alfa, iteraciones, val_ratio=0.1):\n",
    "    \n",
    "    # inicializacion de parametros\n",
    "    \n",
    "    #x = np.squeeze(x)\n",
    "    #y = np.squeeze(y)\n",
    "    alfa = alfa\n",
    "    residuo = 0\n",
    "    d_w = 0.0\n",
    "    d_b = 0.0\n",
    "    m = len(x)\n",
    "\n",
    "    # Especificaciones de las graficas\n",
    "    plt.figure(figsize=(13,8)) \n",
    "    plt.title('MSE vs iteración', size=24)\n",
    "    plt.xlabel('iteración', size=18)\n",
    "    plt.ylabel('MSE', size=18)\n",
    "    \n",
    "    ajustar_ratio = int((1.0-val_ratio)*len(x))  \n",
    "   \n",
    "    samples_ajustar = (x[0:ajustar_ratio], y[0:ajustar_ratio])\n",
    "    samples_val = (x[ajustar_ratio:], y[ajustar_ratio:])\n",
    "    x = samples_ajustar[0]\n",
    "    y = samples_ajustar[1]\n",
    "    x_val = samples_val[0]\n",
    "    y_val = samples_val[1]\n",
    "       \n",
    "    weights = []\n",
    "    biases = []\n",
    "    residuos = []\n",
    "    residuos_val = []\n",
    "    \n",
    "    m_ajustar = len(x)\n",
    "    m_val = len(x_val)\n",
    "    \n",
    "    for i in range(iteraciones):\n",
    "\n",
    "        # calculo de derivadas y el residuo\n",
    "        residuo = 0.0\n",
    "        residuo_val = 0.0\n",
    "        \n",
    "        for j in range(m_ajustar):\n",
    "\n",
    "            r = (y[j]-weight*x[j] - bias)**2\n",
    "\n",
    "            d_w += 2*(weight*x[j] + bias- y[j])*x[j]\n",
    "            \n",
    "            d_b += 2*(weight*x[j]+bias-y[j])\n",
    "\n",
    "            residuo += r\n",
    "\n",
    "        residuo /= m_ajustar\n",
    "\n",
    "        d_w /= m_ajustar\n",
    "\n",
    "        d_b /= m_ajustar\n",
    "        \n",
    "        #calculo del residuo de las muestras de valoración\n",
    "        \n",
    "        for j in range(m_val):\n",
    "\n",
    "            r = (y_val[j]-weight*x_val[j] - bias)**2\n",
    "\n",
    "            #r += np.squeeze(r)\n",
    "            residuo_val += r\n",
    "\n",
    "        residuo_val /= m_val\n",
    "                      \n",
    "        weights.append(weight)\n",
    "        biases.append(bias)\n",
    "        residuos.append(residuo)\n",
    "        residuos_val.append(residuo_val)\n",
    "        \n",
    "        # Actualizacion de los parametros\n",
    "\n",
    "        weight = weight - alfa*d_w\n",
    "        bias = bias - alfa*d_b\n",
    "        \n",
    "        plt.scatter(i, residuo, color='blue')\n",
    "        \n",
    "        plt.scatter(i, residuo_val, color='orange')\n",
    "        \n",
    "        plt.legend(['Ajuste', 'Validation'], loc='upper right')\n",
    "\n",
    "\n",
    "    return weights, biases, residuos, residuos_val"
   ]
  },
  {
   "cell_type": "code",
   "execution_count": null,
   "metadata": {
    "ExecuteTime": {
     "end_time": "2020-10-07T16:42:19.587148Z",
     "start_time": "2020-10-07T16:42:17.308020Z"
    },
    "scrolled": false
   },
   "outputs": [],
   "source": [
    "weight_0 = np.random.random()\n",
    "bias_0 = np.random.random()\n",
    "alfa = 0.04\n",
    "num_iter = 100\n",
    "validacion_ratio = 0.1\n",
    "\n",
    "weights, biases, residuos, residuos_val = update_parameters_1 \\\n",
    "        (ajustar_x, ajustar_y, weight_0, bias_0, alfa, num_iter, validacion_ratio)\n"
   ]
  },
  {
   "cell_type": "markdown",
   "metadata": {},
   "source": [
    "<font size=4, color='blue'>\n",
    "\n",
    "Con los valores óptimos obtenidos para $W$ y $b$, evaluamos ahora el residuo que se obtiene las muestras_prueba."
   ]
  },
  {
   "cell_type": "code",
   "execution_count": null,
   "metadata": {
    "ExecuteTime": {
     "end_time": "2020-10-07T16:42:19.603294Z",
     "start_time": "2020-10-07T16:42:19.589275Z"
    }
   },
   "outputs": [],
   "source": [
    "print(\"MSE_prueba =  %.5f\" %MSE(test_x, test_y, weights[-1], biases[-1]))\n"
   ]
  },
  {
   "cell_type": "markdown",
   "metadata": {
    "ExecuteTime": {
     "end_time": "2020-10-05T19:53:06.445592Z",
     "start_time": "2020-10-05T19:53:06.437464Z"
    }
   },
   "source": [
    "<font size=5, color='blue'>\n",
    "\n",
    "Inferencia"
   ]
  },
  {
   "cell_type": "markdown",
   "metadata": {},
   "source": [
    "<font size=4, color='black'>\n",
    "\n",
    "Dado el tiempo t podemos obtener una predicción (inferencia) del valor de la distancia."
   ]
  },
  {
   "cell_type": "code",
   "execution_count": null,
   "metadata": {
    "ExecuteTime": {
     "end_time": "2020-10-07T16:42:19.614801Z",
     "start_time": "2020-10-07T16:42:19.604835Z"
    }
   },
   "outputs": [],
   "source": [
    "def inference(t, w, b, mean_t, std_t, mean_y, std_y) :\n",
    "    \n",
    "    t = (t-mean_t) / std_t \n",
    "    d = w * t + b\n",
    "    \n",
    "    d = d * std_y + mean_y\n",
    "    \n",
    "    return d"
   ]
  },
  {
   "cell_type": "code",
   "execution_count": null,
   "metadata": {
    "ExecuteTime": {
     "end_time": "2020-10-07T16:42:19.628514Z",
     "start_time": "2020-10-07T16:42:19.616460Z"
    },
    "scrolled": false
   },
   "outputs": [],
   "source": [
    "tiempos = [1.65, 32.20, 43.5, 84.7]\n",
    "\n",
    "for t in tiempos :\n",
    "    distance = inference(t,weights[-1], biases[-1], mean_time, std_time, mean_distance, std_distance)\n",
    "\n",
    "    print (\"Para el tiempo de {0:5.2f} s la distancia inferida es {1:6.2f} cm \".format(t,distance))"
   ]
  },
  {
   "cell_type": "markdown",
   "metadata": {},
   "source": [
    "<font size=4 color='black'>\n",
    "\n",
    "Vemos entonces que con el ajuste de una función al conjunto de puntos $(x_i, y_i)$ podemos hacer predicciones de valores y dado el valor de x. \n",
    "    \n",
    "Es decir, el sistema desarrollado \"aprendió\" la correlación que hay entre las variables $X$ y $Y$, y por ello pueden hacer inferencias."
   ]
  },
  {
   "cell_type": "code",
   "execution_count": null,
   "metadata": {},
   "outputs": [],
   "source": []
  },
  {
   "cell_type": "markdown",
   "metadata": {
    "ExecuteTime": {
     "end_time": "2020-10-06T19:20:20.673227Z",
     "start_time": "2020-10-06T19:20:20.664698Z"
    }
   },
   "source": [
    "<font size=6 color='blue'>\n",
    "\n",
    "<center>Inteligencia Artificial <center>"
   ]
  },
  {
   "cell_type": "markdown",
   "metadata": {
    "ExecuteTime": {
     "end_time": "2020-10-06T15:47:59.726986Z",
     "start_time": "2020-10-06T15:47:59.717971Z"
    }
   },
   "source": [
    "<font size=5 color='blue'>\n",
    "\n",
    "Pasaremos conceptualmente de la nomenclatura de ajuste de datos a\n",
    "    \n",
    "la nomenclatura que se emplea en Inteligencia Artificial"
   ]
  },
  {
   "cell_type": "markdown",
   "metadata": {
    "ExecuteTime": {
     "end_time": "2020-10-06T15:49:32.315061Z",
     "start_time": "2020-10-06T15:49:32.306342Z"
    }
   },
   "source": [
    "<font size=4 color='black'>\n",
    "\n",
    "Esta transición la haremos empleando toda la matematica desarrollada en las celdas anteriores"
   ]
  },
  {
   "cell_type": "markdown",
   "metadata": {},
   "source": [
    "<font size=4 color='black'>\n",
    "    \n",
    "En inteligencia artificial, un sistema es \"inteligente\" cuando despues de ser entrenado con información que le es suministrada, es capaz de hacer inferencias (predicciones).\n",
    "\n"
   ]
  },
  {
   "cell_type": "markdown",
   "metadata": {
    "ExecuteTime": {
     "end_time": "2020-10-06T15:43:45.263065Z",
     "start_time": "2020-10-06T15:43:45.257420Z"
    }
   },
   "source": [
    "<font size=4 color='blue'>\n",
    " \n",
    "Dada la dinámica en inteligencia artificial a nivel mundial, en el presente curso, emplearemos la nomenclatura estandar que se emplea en el idioma Inglés."
   ]
  },
  {
   "cell_type": "markdown",
   "metadata": {},
   "source": [
    "<font size=4 color='black'>\n",
    "\n",
    "Al buscar resolver un problema en la vida real, después de analizarlo debemos proponer las variables que consideramos describen el problema.\n",
    "    \n",
    "Lo siguiente es cuantificar estas variables y asignarles valores.\n",
    "\n",
    "El problema puede definir de manera destacada una de las variables, una en la cual se tenga particular interés, esta variable la definimos como la variable $Y$, la cual considermos depende del resto de las variables que identifican al problema, estas variables serán las variables independientes $\\textbf X$."
   ]
  },
  {
   "cell_type": "markdown",
   "metadata": {},
   "source": [
    "<font size=4 color='blue'>\n",
    "    \n",
    "El ejemplo que vimos de ajuste de una función a un conjunto de puntos $(x_i, y_i)$ lo traduciremos a un sistema de aprendizaje artificial."
   ]
  },
  {
   "cell_type": "markdown",
   "metadata": {},
   "source": [
    "<img src=\"./images/AI-Problem.png\" width=620 height=620 align = \"center\" >"
   ]
  },
  {
   "cell_type": "markdown",
   "metadata": {},
   "source": [
    "<font size=5 color='blue' >\n",
    "<center> Problema: Determinar la distancia que recorre un objeto con el tiempo"
   ]
  },
  {
   "cell_type": "markdown",
   "metadata": {},
   "source": [
    "<font size=4 >\n",
    "\n",
    "Lo que nos interesa es la distancia, la identificaremos con la variable $Y$\n",
    "    \n",
    "Esta distancia depende del tiempo, el cual lo identificaremos con la variable $X$.\n",
    "    "
   ]
  },
  {
   "cell_type": "markdown",
   "metadata": {
    "ExecuteTime": {
     "end_time": "2020-10-06T19:17:24.539641Z",
     "start_time": "2020-10-06T19:17:24.534327Z"
    }
   },
   "source": [
    "<font size=5 color='blue'>\n",
    "\n",
    "Analizaremos un ejemplo de esta problema."
   ]
  },
  {
   "cell_type": "markdown",
   "metadata": {},
   "source": [
    "<font size=4 color='black'>\n",
    "\n",
    "Tenemos un cuerpo, del cual se han obtenido $m$ muestras de estas variables. Cada muestra de este cuerpo la identificamos por la dupla $(x_i, y_i)$.\n",
    "    \n",
    "Generaremos un sistema de aprendizaje, en donde proponemos que la función $F(\\textbf {X},\\textbf W,b)$ describe la relación entre estas variables. \n",
    "    \n",
    "Esta función puede tener diferentes formas. Por ejemplo:\n",
    "    \n",
    "$$F(\\textbf {X}, \\textbf {W}, b) = b + \\textbf {WX}$$\n",
    "    \n",
    "o bien:\n",
    "    \n",
    "$$ F(\\textbf {X},\\textbf {W},b) = 1.7159*tanh(\\textbf {WX}+b) $$\n",
    "    \n",
    "o bien:\n",
    "    \n",
    "$$ F(\\textbf {X},\\textbf{W},b) = Artificial-Neural-Network (\\textbf {ANN})$$\n",
    "    \n",
    "o bien:\n",
    "    \n",
    "$$ F(\\textbf {X},\\textbf{W},b) = Supported-Vector-Machine(SVM)$$\n",
    "    \n",
    "o bien: \n",
    "    \n",
    "$$ F(\\textbf {X},\\textbf{W},b) = Decision-Tree $$\n",
    "    \n",
    "o bien:\n",
    "    \n",
    "$$ F(\\textbf {X},\\textbf{W},b) = Decision-Forest $$\n",
    "    \n",
    "entre otras.   "
   ]
  },
  {
   "cell_type": "markdown",
   "metadata": {},
   "source": [
    "<img src=\"./images/AI-Correlation-function.png\" width=200 height=200 align = \"center\" >"
   ]
  },
  {
   "cell_type": "markdown",
   "metadata": {},
   "source": [
    "<font size=4 color='black'>\n",
    "\n",
    "Dada la simplicidad de nuestros datos, para nuestro sistema de aprendizaje proponemos que la relación entre las vairables que describen nuestro sistema es una relación lineal, descrita por la función:\n",
    "    \n",
    " $$F(\\textbf{X},\\textbf{W}, b) = b + \\textbf{WX}$$\n",
    "    \n",
    "En la nomenclatura de inteligencia artificial, esto significa que nuestro problema se resuelve con una \"regresión lineal\" (Linear regression)."
   ]
  },
  {
   "cell_type": "markdown",
   "metadata": {
    "ExecuteTime": {
     "end_time": "2020-10-06T19:24:11.171857Z",
     "start_time": "2020-10-06T19:24:11.167254Z"
    }
   },
   "source": [
    "<font size=5 color='blue'>\n",
    "\n",
    "Estos son los datos que describen el movimiento de nuestro cuerpo"
   ]
  },
  {
   "cell_type": "code",
   "execution_count": null,
   "metadata": {},
   "outputs": [],
   "source": [
    "# Generacción de las muestras (x,yi)\n",
    "n_points = 1000\n",
    "distance_0 = 100.0\n",
    "measuring_time = 100.0\n",
    "speed = 20.0\n",
    "max_distance_error = 100\n",
    "\n",
    "x, y = generador_datos_simple(n_points, distance_0, measuring_time, speed, max_distance_error)\n",
    "\n",
    "print(\"x type\", type(x), \"x shape\", x.shape)\n",
    "print(\"y type\", type(y), \"y shape\", y.shape)"
   ]
  },
  {
   "cell_type": "code",
   "execution_count": null,
   "metadata": {
    "scrolled": false
   },
   "outputs": [],
   "source": [
    "plt.figure(figsize=(13,8))\n",
    "plt.rc('xtick', labelsize=16)\n",
    "plt.rc('ytick', labelsize=16)\n",
    "plt.rc('legend', fontsize=16)\n",
    "\n",
    "\n",
    "plt.scatter(x, y)\n",
    "plt.title('Movimiento del cuerpo', size=24)\n",
    "plt.xlabel('X(segundos)', size=18)\n",
    "plt.ylabel('Y(cm)', size=18);\n",
    "\n",
    "plt.show()"
   ]
  },
  {
   "cell_type": "markdown",
   "metadata": {
    "ExecuteTime": {
     "end_time": "2020-02-25T17:53:57.795234Z",
     "start_time": "2020-02-25T17:53:57.789400Z"
    }
   },
   "source": [
    "<font size=4 color ='blue'>\n",
    "Se generan histogramas de los las variables $x$ y $y$"
   ]
  },
  {
   "cell_type": "code",
   "execution_count": null,
   "metadata": {
    "ExecuteTime": {
     "end_time": "2020-10-07T16:42:20.087349Z",
     "start_time": "2020-10-07T16:42:19.804968Z"
    }
   },
   "outputs": [],
   "source": [
    "plt.figure(figsize=(13,5))\n",
    "plt.rc('xtick', labelsize=14)\n",
    "plt.rc('ytick', labelsize=14)\n",
    "plt.rc('legend', fontsize=14)\n",
    "\n",
    "plt.subplot(1, 2, 1)\n",
    "plt.hist(x, bins=30, edgecolor='black', alpha=0.5)\n",
    "plt.xlabel('X(segundos)', fontsize=16)\n",
    "plt.ylabel('frecuencia', fontsize=16)\n",
    "\n",
    "\n",
    "plt.subplot(1, 2, 2)\n",
    "plt.hist(y, bins=30, edgecolor='black', alpha=0.5)\n",
    "plt.xlabel('Y(cm)', fontsize=16)\n",
    "plt.ylabel('frecuencia', fontsize=16);"
   ]
  },
  {
   "cell_type": "markdown",
   "metadata": {
    "ExecuteTime": {
     "end_time": "2020-02-21T21:45:26.197814Z",
     "start_time": "2020-02-21T21:45:26.192320Z"
    }
   },
   "source": [
    "<font size=4, color='blue'>\n",
    "El total de los datos son divididos en dos grupos: uno con el 90 % de los datos para realizar el aprindizaje, y el segundo con el restante 10 % para analizar este aprendizaje."
   ]
  },
  {
   "cell_type": "markdown",
   "metadata": {},
   "source": [
    "<img src=\"./images/AI-train-test-data.png\" width=550 height=550 align = \"center\" >"
   ]
  },
  {
   "cell_type": "code",
   "execution_count": null,
   "metadata": {
    "ExecuteTime": {
     "end_time": "2020-10-07T16:42:20.338411Z",
     "start_time": "2020-10-07T16:42:20.089284Z"
    },
    "scrolled": false
   },
   "outputs": [],
   "source": [
    "# Los datos se cambian de posicion aleatoriamente\n",
    "\n",
    "from random import shuffle\n",
    "\n",
    "c = list(zip(x, y)) \n",
    "\n",
    "shuffle(c)\n",
    "    \n",
    "(x, y) = zip(*c)\n",
    "\n",
    "#print(len(x), len(y))\n",
    "\n",
    "# Los datos se dividen\n",
    "\n",
    "samples_train = (x[0:int(0.90*len(x))], y[0:int(0.90*len(y))])\n",
    "#print(len(samples_train[0]), len(samples_train[1]))\n",
    "\n",
    "samples_test = (x[int(0.90*len(x)):], y[int(0.90*len(y)):])\n",
    "\n",
    "plt.figure(figsize=(15, 8))\n",
    "plt.subplot(1, 2, 1)\n",
    "plt.scatter(samples_train[0], samples_train[1])\n",
    "plt.title('Samples_train', size=20)\n",
    "plt.xlabel('X(s)', size =15)\n",
    "plt.ylabel('Y(cm)', size =15)\n",
    "plt.subplot(1, 2, 2)\n",
    "plt.scatter(samples_test[0], samples_test[1], color='red')\n",
    "plt.title('Samples_test', size=20)\n",
    "plt.xlabel('X(s)', size =15)\n",
    "plt.ylabel('Y(cm)', size =15);"
   ]
  },
  {
   "cell_type": "markdown",
   "metadata": {
    "ExecuteTime": {
     "end_time": "2020-02-25T18:02:38.947376Z",
     "start_time": "2020-02-25T18:02:38.937805Z"
    }
   },
   "source": [
    "<font size=4, color='blue'>\n",
    "Para las muestras de entrenamiento, las variables se normalizan empleando su promedio y su desviación estandar."
   ]
  },
  {
   "cell_type": "code",
   "execution_count": null,
   "metadata": {
    "ExecuteTime": {
     "end_time": "2020-10-07T16:42:20.342618Z",
     "start_time": "2020-10-07T16:42:20.340233Z"
    }
   },
   "outputs": [],
   "source": [
    "x_train = samples_train[0]\n",
    "y_train = samples_train[1]\n",
    "x_test = samples_test[0]\n",
    "y_test = samples_test[1]"
   ]
  },
  {
   "cell_type": "code",
   "execution_count": null,
   "metadata": {
    "ExecuteTime": {
     "end_time": "2020-10-07T16:42:20.373868Z",
     "start_time": "2020-10-07T16:42:20.344046Z"
    }
   },
   "outputs": [],
   "source": [
    "y_mean = np.mean(y_train)\n",
    "y_std = np.std(y_train)\n",
    "\n",
    "train_y = (y_train-y_mean)/y_std\n",
    "\n",
    "x_mean = np.mean(x_train)\n",
    "x_std = np.std(x_train)\n",
    "\n",
    "train_x = (x_train-x_mean)/x_std"
   ]
  },
  {
   "cell_type": "code",
   "execution_count": null,
   "metadata": {
    "ExecuteTime": {
     "end_time": "2020-10-07T16:42:20.717654Z",
     "start_time": "2020-10-07T16:42:20.375322Z"
    }
   },
   "outputs": [],
   "source": [
    "plt.figure(figsize=(13,5))\n",
    "plt.rc('xtick', labelsize=14)\n",
    "plt.rc('ytick', labelsize=14)\n",
    "plt.rc('legend', fontsize=14)\n",
    "\n",
    "\n",
    "plt.subplot(1, 2, 1)\n",
    "plt.hist(train_x, bins=30,color='blue', edgecolor='b', alpha=0.5)\n",
    "plt.xlabel('X', fontsize=14)\n",
    "plt.ylabel('Frecuencia',fontsize=14)\n",
    "\n",
    "\n",
    "plt.subplot(1, 2, 2)\n",
    "plt.hist(train_y, bins=30,color='blue', edgecolor='b', alpha=0.5)\n",
    "plt.xlabel('Y',fontsize=14)\n",
    "plt.ylabel('Frecuencia',fontsize=14);"
   ]
  },
  {
   "cell_type": "markdown",
   "metadata": {},
   "source": [
    "<font size=4>\n",
    "   \n",
    "Las muestras seleccionadas para hacer el entrenamiento se dividen en dos grupos:\n",
    "\n",
    "El 90 % (este valor es solo un ejemplo) de ellas se emplea para hacer el entrenamiento,\n",
    "    \n",
    "mientras que el 10 % restante se emplean para evaluar la evolución del mismo.\n"
   ]
  },
  {
   "cell_type": "markdown",
   "metadata": {},
   "source": [
    "<img src=\"./images/train_data.png\" width=550 height=550 align = \"center\" >"
   ]
  },
  {
   "cell_type": "markdown",
   "metadata": {
    "ExecuteTime": {
     "end_time": "2020-10-06T14:51:27.055986Z",
     "start_time": "2020-10-06T14:51:27.050069Z"
    }
   },
   "source": [
    "<font size=4, color='black'>\n",
    "\n",
    "Generamos la función \"training\" que contiene la arquitectura de la función $F(X,W,b)$ y la métrica que emplearemos para el entrenamiento. \n",
    "    \n",
    "Ejecutaremos el entrenamiento y generaremos las graficas de la función de pérdida (error) como función de la época (iteración). En el futuro, estas acciones se programan por separado.    "
   ]
  },
  {
   "cell_type": "markdown",
   "metadata": {},
   "source": [
    "<font size=4, color='blue'>\n",
    "Sea $F(\\textbf{X},\\textbf{W},b)$, la función que describe el sistema de aprendizaje. En donde $\\textbf{W}$ y $b$, son los parámetros que la definen."
   ]
  },
  {
   "cell_type": "markdown",
   "metadata": {},
   "source": [
    "<img src=\"./images/AI-Correlation-function.png\" width=200 height=200 align = \"center\" >"
   ]
  },
  {
   "cell_type": "markdown",
   "metadata": {
    "ExecuteTime": {
     "end_time": "2020-02-05T18:20:56.725971Z",
     "start_time": "2020-02-05T18:20:56.721704Z"
    }
   },
   "source": [
    "<font size = 4>\n",
    "\n",
    "Durante el entrenamiento los valores de $W$ y $b$ son actualizados. Esto se realiza definiendo una métrica para obtener la función de pérdida, la cual compara los valores de la función $F(x_i,\\textbf{W},b)$ con los valores $y_i$ para cada una de las muestras.\n",
    "\n",
    "La siguiente es un ejemplo de este tipo de métricas:\n",
    "    \n",
    "$$ (F(x_i,\\textbf{w},b)-y_i)^{2}$$\n",
    "\n",
    "Esto se hace para cada una de las muestras para obtener, en el presente caso, la función de pérdida (loss en Inglés). A esta función también se le conoce con el nombre de función de costo. \n",
    "\n",
    "Si m es el número de muestras, la función de pérdida queda como:\n",
    "\n",
    "$$J(W, b) = \\dfrac{1}{m}∑_{i=1}^{m}(F(x_i,\\textbf{W},b)-y_i)^{2} $$\n",
    "\n",
    "    \n",
    "    \n",
    "Dados valores iniciales de $\\bf W$ y $b$, y generamos esta pérdida (loss), decimos que generamos una época. Se compara esta pérdida con el valor mínimo deseado, si es mayor que este número, entonces modificamos los valores de los parámetros $\\bf W$ y $b$, es decir, el sistema sigue aprendiendo, e iniciamos una nueva epoca. \n",
    "    "
   ]
  },
  {
   "cell_type": "markdown",
   "metadata": {},
   "source": [
    "<font size=4 color='black'>\n",
    "    \n",
    "Por ejemplo, los parámetros $\\bf W$ y $b$ se pueden actualizar usando la siguientes relaciones:\n",
    "\n",
    "$$ \\textbf {W}_{new} = \\textbf{W}_{old} - \\alpha \\dfrac{\\partial J(W, b)}{\\partial \\textbf{W}}$$\n",
    "\n",
    "$$ b_{new} = b_{old} - \\alpha \\dfrac{\\partial J(W, b)}{\\partial b}$$\n",
    "\n",
    "$\\alpha$, relación de aprendizaje, es un hyper-parámetro del modelo, y controla la rapidez con que se varían los valores de los parametros $\\bf W$ y $b$.\n"
   ]
  },
  {
   "cell_type": "markdown",
   "metadata": {},
   "source": [
    "<img src=\"./images/Ai-W-b-update.png\" width=550 height=550 align = \"center\" >"
   ]
  },
  {
   "cell_type": "markdown",
   "metadata": {},
   "source": [
    "<font size=5, color='blue'>\n",
    "<center>El entrenamiento se realiza sólo con los datos destinados para ello "
   ]
  },
  {
   "cell_type": "markdown",
   "metadata": {},
   "source": [
    "<font size=4, color='blue'>\n",
    "Es muy importante evaluar el entrenamiento en cada época. "
   ]
  },
  {
   "cell_type": "markdown",
   "metadata": {},
   "source": [
    "<font size=4, color='black'>\n",
    "    \n",
    "Esto se realiza separando una porción (10 %) de los datos para el entrenamiento. Con ellos se obtiene un valor de la funcion de pérdida en cada época, llamado pérdida en la validacion, el cual se grafica junto con el valor de la función de pérdida asociada al entrenamiento.\n"
   ]
  },
  {
   "cell_type": "code",
   "execution_count": null,
   "metadata": {
    "ExecuteTime": {
     "end_time": "2020-10-07T16:55:39.474911Z",
     "start_time": "2020-10-07T16:55:39.459371Z"
    }
   },
   "outputs": [],
   "source": [
    "#Function to update weight and bias\n",
    "\n",
    "def training(x_train, y_train, weight, bias, alpha, epochs, val_ratio=0.1):\n",
    "    \n",
    "    # inicializacion de parametros\n",
    "\n",
    "    alpha = alfa\n",
    "    d_w = 0.0\n",
    "    d_b = 0.0\n",
    "\n",
    "    # Especificaciones de las graficas\n",
    "    plt.figure(figsize=(13,8)) \n",
    "    plt.title('Pérdida vs Epoca', size=24)\n",
    "    plt.xlabel('Época', size=20)\n",
    "    plt.ylabel('Pérdida', size=20)\n",
    "    \n",
    "    train_ratio = int((1.0-val_ratio)*len(x_train))  \n",
    "   \n",
    "    samples_train = (x_train[0:train_ratio], y_train[0:train_ratio])\n",
    "    samples_val = (x_train[train_ratio:], y_train[train_ratio:])\n",
    "    x = samples_train[0]\n",
    "    y = samples_train[1]\n",
    "    x_val = samples_val[0]\n",
    "    y_val = samples_val[1]\n",
    "       \n",
    "    weights = []\n",
    "    biases = []\n",
    "    costs = []\n",
    "    costs_val = []\n",
    "    \n",
    "    m_train = len(x)\n",
    "    m_val = len(x_val)\n",
    "    \n",
    "    for i in range(epochs):\n",
    "\n",
    "        # calculo de derivadas y el residuo\n",
    "        cost = 0.0\n",
    "        cost_val = 0.0\n",
    "        \n",
    "        for j in range(m_train):\n",
    "\n",
    "            r = (y[j]-weight*x[j] - bias)**2\n",
    "\n",
    "            d_w += 2*(weight*x[j] + bias- y[j])*x[j]\n",
    "            \n",
    "            d_b += 2*(weight*x[j]+bias-y[j])\n",
    "\n",
    "            cost += r\n",
    "\n",
    "        cost /= m_train\n",
    "\n",
    "        d_w /= m_train\n",
    "\n",
    "        d_b /= m_train\n",
    "        \n",
    "        #calculo del residuo de las muestras de valoración\n",
    "        \n",
    "        for j in range(m_val):\n",
    "\n",
    "            cost_val += (y_val[j] - weight*x_val[j] - bias)**2\n",
    "\n",
    "        cost_val /= m_val\n",
    "               \n",
    "       \n",
    "        weights.append(weight)\n",
    "        biases.append(bias)\n",
    "        costs.append(cost)\n",
    "        costs_val.append(cost_val)\n",
    "        \n",
    "        # Actualizacion de los parametros\n",
    "\n",
    "        weight = weight - alpha*d_w\n",
    "        bias = bias - alpha*d_b\n",
    "        \n",
    "        plt.scatter(i, cost, color='green')\n",
    "        \n",
    "        plt.scatter(i, cost_val, color='orange')\n",
    "        plt.legend(['Training', 'Validation'], loc='upper right')\n",
    "\n",
    "    return weights, biases, costs, costs_val"
   ]
  },
  {
   "cell_type": "markdown",
   "metadata": {},
   "source": [
    "<img src=\"./images/Training.png\" width=550 height=550 align = \"center\" >"
   ]
  },
  {
   "cell_type": "code",
   "execution_count": null,
   "metadata": {
    "ExecuteTime": {
     "end_time": "2020-10-07T16:55:42.445950Z",
     "start_time": "2020-10-07T16:55:40.103050Z"
    },
    "scrolled": false
   },
   "outputs": [],
   "source": [
    "weight_0 = np.random.random()\n",
    "bias_0 = np.random.random()\n",
    "alpha = 0.04\n",
    "num_epochs = 100\n",
    "validation_ratio = 0.1\n",
    "\n",
    "weights, biases, cost, cost_val = training \\\n",
    "        (train_x, train_y, weight_0, bias_0, alpha, num_epochs, validation_ratio)\n"
   ]
  },
  {
   "cell_type": "markdown",
   "metadata": {
    "ExecuteTime": {
     "end_time": "2020-10-05T19:53:06.445592Z",
     "start_time": "2020-10-05T19:53:06.437464Z"
    }
   },
   "source": [
    "<font size=5, color='blue'>\n",
    "\n",
    "Inferencia (predicción)"
   ]
  },
  {
   "cell_type": "markdown",
   "metadata": {},
   "source": [
    "<img src=\"./images/Predictions.png\" width=350 height=350 align = \"center\" >"
   ]
  },
  {
   "cell_type": "markdown",
   "metadata": {},
   "source": [
    "<font size=4, color='black'>\n",
    "\n",
    "Dado el tiempo t el sistema de aprendizaje puede predecir (inferir) del valor de la distancia para ese tiempo."
   ]
  },
  {
   "cell_type": "markdown",
   "metadata": {},
   "source": [
    "<font size=4 color='blue'>\n",
    "    \n",
    "Recuerdese que para realizar el entrenamiento del sistema de aprendizaje, tanto la variable dependiente, y, como la variable independiente, x, fueron normalizadas.\n",
    "    \n"
   ]
  },
  {
   "cell_type": "code",
   "execution_count": null,
   "metadata": {
    "ExecuteTime": {
     "end_time": "2020-10-07T16:42:17.203685Z",
     "start_time": "2020-10-07T16:42:17.199975Z"
    }
   },
   "outputs": [],
   "source": [
    "def loss(x, y, weight, bias):\n",
    "    \n",
    "    r = 0\n",
    "\n",
    "    m = len(x)\n",
    "    \n",
    "    for i in range(m):\n",
    "\n",
    "        r += (y[i]-weight*x[i] - bias)**2\n",
    "\n",
    "    r /= m\n",
    "    \n",
    "    return r"
   ]
  },
  {
   "cell_type": "code",
   "execution_count": null,
   "metadata": {
    "ExecuteTime": {
     "end_time": "2020-10-07T16:42:17.276180Z",
     "start_time": "2020-10-07T16:42:17.265788Z"
    }
   },
   "outputs": [],
   "source": [
    "test_y = (y_test-y_mean)/y_std\n",
    "\n",
    "test_x = (x_test-x_mean)/x_std\n",
    "\n",
    "print(\"loss_prueba =  %.5f\" %loss(test_x, test_y, weights[-1], biases[-1]))"
   ]
  },
  {
   "cell_type": "markdown",
   "metadata": {},
   "source": [
    "<font size=4>\n",
    "\n",
    "Para poder explotar lo aprendido por el sistema de aprendizaje con un conjunto de muestras nuevas, es necesario reescalar el valor de la variable independiente, $X$, de cada muestra nueva. \n",
    "    \n",
    "Una vez inferido, para una muestra, el valor de la variable dependiente, $Y$, es necesario reescalarlo para tener un valor que se pueda comparar con lo valores originales en las muestras empleadas para el entrenamiento."
   ]
  },
  {
   "cell_type": "code",
   "execution_count": null,
   "metadata": {
    "ExecuteTime": {
     "end_time": "2020-10-07T16:42:23.089084Z",
     "start_time": "2020-10-07T16:42:23.085793Z"
    }
   },
   "outputs": [],
   "source": [
    "def inference(x, w, b, x_train_mean, x_train_std, y_train_mean, y_train_std) :\n",
    "    \n",
    "    # reescalando la variable x\n",
    "    x = (x - x_train_mean) / x_train_std\n",
    "    \n",
    "    y = w * x + b\n",
    "    \n",
    "    # reescalando el valor inferido\n",
    "    y = y * y_train_std + y_train_mean\n",
    "    \n",
    "    return y"
   ]
  },
  {
   "cell_type": "code",
   "execution_count": null,
   "metadata": {
    "ExecuteTime": {
     "end_time": "2020-10-07T16:42:23.101550Z",
     "start_time": "2020-10-07T16:42:23.090906Z"
    },
    "scrolled": true
   },
   "outputs": [],
   "source": [
    "tiempos = [1.65, 32.20, 43.5, 84.7]\n",
    "\n",
    "for t in tiempos :\n",
    "    distancia = inference(x=t,w=weights[-1], b=biases[-1], \\\n",
    "                          x_train_mean = x_mean, x_train_std = x_std,\\\n",
    "                          y_train_mean = y_mean, y_train_std = y_std)\n",
    "\n",
    "    print (\"Para el tiempo de {0:5.2f} s la distancia inferida es {1:6.2f} cm \".\\\n",
    "           format(t,distancia))"
   ]
  },
  {
   "cell_type": "markdown",
   "metadata": {},
   "source": [
    "<font size=5, color='blue'>\n",
    "<center> Resumen de la solución de nuestro problema empleando Inteligencia Artificial"
   ]
  },
  {
   "cell_type": "markdown",
   "metadata": {},
   "source": [
    "<img src=\"./images/AI-complete-system.png\" width=450 height=450 align = \"left\" >\n",
    "\n",
    "\n",
    "<img src=\"./images/Predictions.png\" width=300 height=300 align=\"center\" >\n"
   ]
  },
  {
   "cell_type": "code",
   "execution_count": null,
   "metadata": {},
   "outputs": [],
   "source": []
  }
 ],
 "metadata": {
  "kernelspec": {
   "display_name": "Python 3",
   "language": "python",
   "name": "python3"
  },
  "language_info": {
   "codemirror_mode": {
    "name": "ipython",
    "version": 3
   },
   "file_extension": ".py",
   "mimetype": "text/x-python",
   "name": "python",
   "nbconvert_exporter": "python",
   "pygments_lexer": "ipython3",
   "version": "3.7.10"
  }
 },
 "nbformat": 4,
 "nbformat_minor": 2
}
