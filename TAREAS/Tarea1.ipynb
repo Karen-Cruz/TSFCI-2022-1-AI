{
 "cells": [
  {
   "cell_type": "markdown",
   "metadata": {
    "id": "hmye4y5F_iDk"
   },
   "source": [
    "# Tarea 1 \n",
    "\n",
    "\n",
    "Esta tarea corresponde  a las clases 2 y 3. \n",
    "\n",
    "\n",
    "Básicamente tienes que hacer lo mismo que se hizo en la notebook de la clase 3 pero con diferentes datos. \n",
    "\n",
    "\n",
    "Puedes apoyarte de las notebooks correspondientes, incluso puedes usar las mismas funciones, pero recuerda analizar el codigo para que lo entiendas mejor.\n"
   ]
  },
  {
   "cell_type": "code",
   "execution_count": null,
   "metadata": {
    "id": "fdz6bCsm_iDn"
   },
   "outputs": [],
   "source": [
    "import numpy as np\n",
    "import random\n",
    "from sklearn import linear_model\n",
    "from sklearn.metrics import mean_squared_error, r2_score\n",
    "import matplotlib.pyplot as plt\n",
    "%matplotlib inline"
   ]
  },
  {
   "cell_type": "markdown",
   "metadata": {
    "id": "qMLfAybb_iDo"
   },
   "source": [
    "<font size=4 color='cornflowerblue'>\n",
    "    \n",
    "  **Ejercicio 1** "
   ]
  },
  {
   "cell_type": "markdown",
   "metadata": {
    "id": "W_ycdDy1_iDp"
   },
   "source": [
    "<font size=4>\n",
    "\n",
    "Genera 500 muestras $(x_i, y_i)$ usando una desviación de 70 y una pendiente de 15.\n",
    "\n",
    "Grafica las muestras.\n",
    "\n",
    "*Puedes usar la función 'generador_datos_simple(beta, m, desviacion)' del nb clase 2*"
   ]
  },
  {
   "cell_type": "code",
   "execution_count": null,
   "metadata": {
    "id": "VHqnE1Nv_iDp"
   },
   "outputs": [],
   "source": []
  },
  {
   "cell_type": "markdown",
   "metadata": {
    "id": "YoBalwuL_iDr"
   },
   "source": [
    "<font size=4 color='cornflowerblue'>\n",
    "    \n",
    "  **Ejercicio 2**  "
   ]
  },
  {
   "cell_type": "markdown",
   "metadata": {
    "id": "YFcAXtfg_iDr"
   },
   "source": [
    "<font size=4>\n",
    "\n",
    "1. Inicializa los parámetros $w$ y $b$. \n",
    "\n",
    "\n",
    "2. Grafica la función $f(x, w, b)$ considerando los parámetros que inicializaste en 1 junto con las muestras que generaste en el ejercicio 1.\n",
    "\n",
    "\n",
    "3. Actualiza los valores de $w$ y $b$ a prueba y error usando la función 'update_weights_biases(weight, bias, value_to_update_weight, value_to_update_bias)' del nb de la clase 2"
   ]
  },
  {
   "cell_type": "code",
   "execution_count": null,
   "metadata": {
    "id": "EryGgJ65_iDs",
    "outputId": "1b37ad4f-fc30-455a-b7f0-d1b3f50931bc"
   },
   "outputs": [
    {
     "name": "stdout",
     "output_type": "stream",
     "text": [
      "weight_0: 9 \n",
      " bias_0: 10\n"
     ]
    }
   ],
   "source": []
  },
  {
   "cell_type": "markdown",
   "metadata": {
    "id": "pDRvC2SI_iDu"
   },
   "source": [
    "### La idea de este ejercicio es seguir jugando con los valores de w y b (actualizar sus valores con la función update_weights_biases) hasta obtener la mejor aproximacion de $f(x, w, b)$ a ojo."
   ]
  },
  {
   "cell_type": "markdown",
   "metadata": {
    "id": "XNkjgZgN_iDu"
   },
   "source": [
    "<font size=4 color='cornflowerblue'>\n",
    "    \n",
    "  **Ejercicio 3**"
   ]
  },
  {
   "cell_type": "markdown",
   "metadata": {
    "id": "9KB3PtI1_iDu"
   },
   "source": [
    "<font size=4>\n",
    "\n",
    "Obten los $\\hat{b}$ y $\\hat{\\omega}$ óptimos usando el método de mínimos cuadrados y grafica la función que se genera $f(x, w, b)$.\n",
    "\n",
    "Puedes usar la función que se usa en el nb clase-2 o puedes crear tu propia función, incluso puedes buscar si hay alguna librería que haga mínimos cuadrados."
   ]
  },
  {
   "cell_type": "code",
   "execution_count": null,
   "metadata": {},
   "outputs": [],
   "source": []
  }
 ],
 "metadata": {
  "colab": {
   "name": "tarea2-solución.ipynb",
   "provenance": []
  },
  "kernelspec": {
   "display_name": "Python 3",
   "language": "python",
   "name": "python3"
  },
  "language_info": {
   "codemirror_mode": {
    "name": "ipython",
    "version": 3
   },
   "file_extension": ".py",
   "mimetype": "text/x-python",
   "name": "python",
   "nbconvert_exporter": "python",
   "pygments_lexer": "ipython3",
   "version": "3.7.10"
  }
 },
 "nbformat": 4,
 "nbformat_minor": 1
}
